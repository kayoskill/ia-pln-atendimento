{
 "cells": [
  {
   "cell_type": "code",
   "execution_count": 808,
   "metadata": {},
   "outputs": [],
   "source": [
    "import re\n",
    "import pandas as pd\n",
    "import seaborn as sns\n",
    "import spacy as sp\n",
    "import matplotlib.pyplot as plt\n",
    "from sklearn.model_selection import train_test_split\n",
    "import numpy as np\n",
    "from sklearn import preprocessing"
   ]
  },
  {
   "cell_type": "code",
   "execution_count": 809,
   "metadata": {},
   "outputs": [],
   "source": [
    "from tensorflow.keras import layers\n",
    "import tensorflow_datasets as tfds"
   ]
  },
  {
   "cell_type": "code",
   "execution_count": 810,
   "metadata": {},
   "outputs": [
    {
     "data": {
      "text/plain": [
       "'2.8.0'"
      ]
     },
     "execution_count": 810,
     "metadata": {},
     "output_type": "execute_result"
    }
   ],
   "source": [
    "import tensorflow as tf\n",
    "tf.__version__"
   ]
  },
  {
   "cell_type": "code",
   "execution_count": 811,
   "metadata": {},
   "outputs": [
    {
     "data": {
      "text/html": [
       "<div>\n",
       "<style scoped>\n",
       "    .dataframe tbody tr th:only-of-type {\n",
       "        vertical-align: middle;\n",
       "    }\n",
       "\n",
       "    .dataframe tbody tr th {\n",
       "        vertical-align: top;\n",
       "    }\n",
       "\n",
       "    .dataframe thead th {\n",
       "        text-align: right;\n",
       "    }\n",
       "</style>\n",
       "<table border=\"1\" class=\"dataframe\">\n",
       "  <thead>\n",
       "    <tr style=\"text-align: right;\">\n",
       "      <th></th>\n",
       "      <th>descricao_abertura</th>\n",
       "      <th>descricao</th>\n",
       "    </tr>\n",
       "  </thead>\n",
       "  <tbody>\n",
       "    <tr>\n",
       "      <th>0</th>\n",
       "      <td>Cliente solicitou a alteração de plano.</td>\n",
       "      <td>RENOVAÇÃO FIDELIDADE</td>\n",
       "    </tr>\n",
       "    <tr>\n",
       "      <th>1</th>\n",
       "      <td>CLIENTE SEM CONEXAO</td>\n",
       "      <td>2. SEM ACESSO - RESIDENCIAL</td>\n",
       "    </tr>\n",
       "    <tr>\n",
       "      <th>2</th>\n",
       "      <td>ENTREI EM CONTATO COM O(A) CLIENTE PARA SABER ...</td>\n",
       "      <td>2. SEM CONTATO COM O CLIENTE</td>\n",
       "    </tr>\n",
       "    <tr>\n",
       "      <th>3</th>\n",
       "      <td>Cliente informa ter efetuado o pagamento</td>\n",
       "      <td>1.2  AGENDAMENTO DA FATURA</td>\n",
       "    </tr>\n",
       "    <tr>\n",
       "      <th>4</th>\n",
       "      <td>SEM ACESSO- 21/01-MANHÃ.SEM COVID.</td>\n",
       "      <td>2. SEM ACESSO - RESIDENCIAL</td>\n",
       "    </tr>\n",
       "    <tr>\n",
       "      <th>...</th>\n",
       "      <td>...</td>\n",
       "      <td>...</td>\n",
       "    </tr>\n",
       "    <tr>\n",
       "      <th>353433</th>\n",
       "      <td>Adesão de comodato com fidelidade de 12 meses ...</td>\n",
       "      <td>3. INSTALAÇÃO FIBRA - RESIDENCIAL</td>\n",
       "    </tr>\n",
       "    <tr>\n",
       "      <th>353434</th>\n",
       "      <td>cliente vai cancelar pois o mesmo contratou co...</td>\n",
       "      <td>4. CANCELAMENTO</td>\n",
       "    </tr>\n",
       "    <tr>\n",
       "      <th>353435</th>\n",
       "      <td>VENDEDOR EXTERNO******* INSTALAR FTTH ONU COMO...</td>\n",
       "      <td>3. INSTALAÇÃO FIBRA - RESIDENCIAL</td>\n",
       "    </tr>\n",
       "    <tr>\n",
       "      <th>353436</th>\n",
       "      <td>VALOR TOTAL DOS DÉBITOS: 1.223,98. EQUIPAMENTO...</td>\n",
       "      <td>1.3 CARTA EXTRAJUDICIAL</td>\n",
       "    </tr>\n",
       "    <tr>\n",
       "      <th>353437</th>\n",
       "      <td>https://maps.app.goo.gl/7tr22mJAdRudDeSq8\\nAde...</td>\n",
       "      <td>3. INSTALAÇÃO FIBRA - RESIDENCIAL</td>\n",
       "    </tr>\n",
       "  </tbody>\n",
       "</table>\n",
       "<p>353438 rows × 2 columns</p>\n",
       "</div>"
      ],
      "text/plain": [
       "                                       descricao_abertura  \\\n",
       "0                 Cliente solicitou a alteração de plano.   \n",
       "1                                     CLIENTE SEM CONEXAO   \n",
       "2       ENTREI EM CONTATO COM O(A) CLIENTE PARA SABER ...   \n",
       "3                Cliente informa ter efetuado o pagamento   \n",
       "4                      SEM ACESSO- 21/01-MANHÃ.SEM COVID.   \n",
       "...                                                   ...   \n",
       "353433  Adesão de comodato com fidelidade de 12 meses ...   \n",
       "353434  cliente vai cancelar pois o mesmo contratou co...   \n",
       "353435  VENDEDOR EXTERNO******* INSTALAR FTTH ONU COMO...   \n",
       "353436  VALOR TOTAL DOS DÉBITOS: 1.223,98. EQUIPAMENTO...   \n",
       "353437  https://maps.app.goo.gl/7tr22mJAdRudDeSq8\\nAde...   \n",
       "\n",
       "                                descricao  \n",
       "0                    RENOVAÇÃO FIDELIDADE  \n",
       "1             2. SEM ACESSO - RESIDENCIAL  \n",
       "2            2. SEM CONTATO COM O CLIENTE  \n",
       "3              1.2  AGENDAMENTO DA FATURA  \n",
       "4             2. SEM ACESSO - RESIDENCIAL  \n",
       "...                                   ...  \n",
       "353433  3. INSTALAÇÃO FIBRA - RESIDENCIAL  \n",
       "353434                    4. CANCELAMENTO  \n",
       "353435  3. INSTALAÇÃO FIBRA - RESIDENCIAL  \n",
       "353436            1.3 CARTA EXTRAJUDICIAL  \n",
       "353437  3. INSTALAÇÃO FIBRA - RESIDENCIAL  \n",
       "\n",
       "[353438 rows x 2 columns]"
      ]
     },
     "execution_count": 811,
     "metadata": {},
     "output_type": "execute_result"
    }
   ],
   "source": [
    "dataframe = pd.read_csv('base/baseia.csv', sep=';', header=0)\n",
    "dataframe"
   ]
  },
  {
   "cell_type": "code",
   "execution_count": 812,
   "metadata": {},
   "outputs": [
    {
     "data": {
      "text/plain": [
       "array(['RENOVAÇÃO FIDELIDADE', '2. SEM ACESSO - RESIDENCIAL',\n",
       "       '2. SEM CONTATO COM O CLIENTE', '1.2  AGENDAMENTO DA FATURA',\n",
       "       '1.1 COBRANÇA', '1.3 RETIRADA COMPULSORIA',\n",
       "       '1.2 DÚVIDAS/INFORMAÇÕES GERAIS (FINANCEIRO)',\n",
       "       '1.2 ENVIO DE COMPROVANTE', '4. CANCELAMENTO',\n",
       "       '1.2 RETIRADA DE BOLETO (PRESENCIAL)', '1.2 ENVIO DE BOLETO',\n",
       "       'MIGRAÇÃO DE PLANO', '1.2 RECEBIMENTO DE MENSALIDADE (PRESENCIAL)',\n",
       "       '2. TROCA DE SENHA WIFI', '1.3 NEGATIVAÇÃO', 'UPGRADE',\n",
       "       '1.3 EXCLUSÃO NEGATIVAÇÃO', '2. LOS - RESIDENCIAL',\n",
       "       '2. INSTALAÇÃO DE ROTEADOR ADICIONAL EM COMODATO',\n",
       "       '2. LENTIDÃO/OSCILAÇÕES NA INTERNET - RESIDENCIAL', '1.1  ACORDO',\n",
       "       '3. INSTALAÇÃO FIBRA - RESIDENCIAL', '1.2 DESBLOQUEIO',\n",
       "       '2. DÚVIDAS/INFORMAÇÕES GERAIS', '3. PÓS-VENDA', 'DOWNGRADE',\n",
       "       '4. SOLICITAÇÃO DE CANCELAMENTO',\n",
       "       '2. RETIRADA DE ROTEADOR ADICIONAL EM COMODATO',\n",
       "       'MUDANÇA DE ENDEREÇO - RESIDENCIAL', 'DESPROVISIONAMENTO',\n",
       "       'MIGRAÇÃO DE TECNOLOGIA', '1.3 CARTA EXTRAJUDICIAL',\n",
       "       'RETORNAR CONTATO SUPORTE', 'RETORNAR CONTATO UPGRADE',\n",
       "       '1.2 MUDANÇA DE TITULARIDADE', 'RETORNAR CONTATO FINANCEIRO',\n",
       "       'ATENDIMENTO AO TÉCNICO', 'BLOQUEIO/DESBLOQUEIO 4G',\n",
       "       '6. PLATAFORMAS DE ENTRETENIMENTO', '1.2 BLOQUEIO',\n",
       "       '2. LENTIDÃO/OSCILAÇÕES  NA INTERNET - EMPRESARIAL',\n",
       "       '4. REVERSÃO DE CANCELAMENTO', '1.2 ALTERAÇÃO DO VENCIMENTO',\n",
       "       '2. PROBLEMA NO WIFI - RESIDENCIAL', '2. SINAL ALTO - RESIDENCIAL',\n",
       "       '8. INFRAESTRUTURA', '2. TROCA DE EQUIPAMENTO - RESIDENCIAL',\n",
       "       '1.3 PROMOÇÃO INDIQUE&GANHE', '2. TESTE DE VELOCIDADE',\n",
       "       '2. CONFERÊNCIA DE DOCUMENTAÇÃO', 'RETORNAR CONTATO COMERCIAL ',\n",
       "       '6. BLOQUEIO/DESBLOQUEIO VOIP', '1.2 ACRÉSCIMO NA FATURA',\n",
       "       '1.2 ENTREGA DE EQUIPAMENTO NA LOJA', 'ATIVAÇÃO DO SERVIÇO',\n",
       "       '1.2 SUSPENSÃO TEMPORARIA', '1.2 DESCONTO NA FATURA',\n",
       "       '1.2 REATIVAÇÃO', 'NOC', '2. MUDANÇA  DE LOCAL DO PONTO',\n",
       "       '2. IPTV E TVBOX', '2. ROTEADOR RESETADO - RESIDENCIAL',\n",
       "       '2. 5.8(RÁDIO)', '1.2 GERAR FATURA',\n",
       "       '1.3 ASSESSORIA JURÍDICA ( EDMO )', '2. HOME SERVICE SEM TAXA',\n",
       "       '3. ADESÃO 5.8GHZ - RESIDENCIAL', 'INSATISFAÇÃO',\n",
       "       '2. SEM ACESSO - EMPRESARIAL', 'SAC', '2. ALOCAÇÃO DE IP FIXO',\n",
       "       '1.2 PAGAMENTO DE FATURA INCORRETA', '2. HABILITAR ACESSO REMOTO',\n",
       "       '6. SUPORTE TÉCNICO TI5 MÓVEL', 'CANCELAMENTO 4G',\n",
       "       '8. VIABILIDADE ', '2. SUPORTE AO APP/CENTRAL',\n",
       "       'RETIRADA DE CABO/CONECTOR NA LOJA', '2. SUPORTE TECNICO',\n",
       "       '3. DESISTÊNCIA DA INSTALAÇÃO', '1.2 LIQUIDAR FATURA',\n",
       "       '2. SUPORTE CORPORATIVO', '7. PREVENTIVO SUPORTE TÉCNICO',\n",
       "       '2. LOS - EMPRESARIAL', '1.2 PASSAR CARTÃO',\n",
       "       '7. AUDITORIA TÉCNICA', '2. REDIRECIONAMENTO DE PORTAS',\n",
       "       '1. FINANCEIRO', '5. ANATEL', '1.3 EMAIL EXTRAJUDICIAL',\n",
       "       '1.2 ATUALIZAÇÃO DE DADOS', '1.2 MUDANÇA DE ENDEREÇO E MIGRAÇÃO',\n",
       "       '2. SUPORTE CORPORATIVO REMOTO', '7. VISTORIA TÉCNICA',\n",
       "       '1.2 DOCUMENTAÇÃO INCOMPLETA', '2. SUPORTE INTERNO',\n",
       "       '2. ROTEADOR RESETADO - EMPRESARIAL', '5. PROCON',\n",
       "       'MUDANÇA DE ENDEREÇO - EMPRESARIAL',\n",
       "       '1.1  RENEGOCIAÇÃO ACORDO PAGO', '1.2 EXCLUSÃO DE FATURA',\n",
       "       'PÓS VENDA TI5 MOVEL', '1.3 RETIRADA DE EQUIPAMENTOS',\n",
       "       '7. SUPORTE AO TÉCNICO', '8. LIBERAÇÃO DE PORTA NA CTO',\n",
       "       'MRE - ESTOQUE', '2. FIXAR EQUIPAMENTO ',\n",
       "       '3. ATIVAÇÃO - RESIDENCIAL', '6. ATIVAÇÃO VOIP', '1.2 REEMBOLSO',\n",
       "       '3. INSTALAÇÃO FIBRA - EMPRESARIAL',\n",
       "       '1.2 MUDANÇA DE TITULARIDADE E DE ENDEREÇO',\n",
       "       '6. CANCELAMENTO VOIP', '6. SERVIÇOS CONVERGENTES',\n",
       "       '3. ATIVAÇÃO - EMPRESARIAL', '8. MANUTENÇÃO INTERNA',\n",
       "       '2. TROCA DE EQUIPAMENTO - EMPRESARIAL', '5. OUVIDORIA',\n",
       "       'QUALIDADE', '7. TAXA DE SERVIÇO EXTERNO ',\n",
       "       '2. HOME SERVICE COM TAXA', '3. COMERCIAL',\n",
       "       '1.2 ENVIO DE NOTA FISCAL', '2. SINAL ALTO - EMPRESARIAL',\n",
       "       '7. VISTORIA CONDOMINIAL', '2. PROBLEMA NO WIFI - EMPRESARIAL',\n",
       "       '3. ADESÃO 5.8GHZ - EMPRESARIAL', '5. RECLAME AQUI',\n",
       "       '1.1 ACORDO PAGO', 'RETORNAR CONTATO SERVIÇOS CONVERGENTES',\n",
       "       'SOLICITAÇÃO DE PRODUTOS', 'RETORNAR CONTATO ACORDO',\n",
       "       '1.3 ANÁLISE PARA NEGATIVAÇÃO ', '1.3 RESPOSTA DE E-MAIL ',\n",
       "       'RETORNAR CONTATO COMERCIAL B2B', 'UPGRADE PRESENCIAL ',\n",
       "       'SOCIAL MIDIA', '(PROVISÓRIO) NEGATIVAÇÃO INFORTEK'], dtype=object)"
      ]
     },
     "execution_count": 812,
     "metadata": {},
     "output_type": "execute_result"
    }
   ],
   "source": [
    "dataframe.descricao.unique()"
   ]
  },
  {
   "cell_type": "code",
   "execution_count": 813,
   "metadata": {},
   "outputs": [
    {
     "data": {
      "text/plain": [
       "array(['RENOVAÇÃO FIDELIDADE', '2. SEM ACESSO - RESIDENCIAL',\n",
       "       '2. SEM CONTATO COM O CLIENTE', '1.2  AGENDAMENTO DA FATURA',\n",
       "       '1.1 COBRANÇA', '1.3 RETIRADA COMPULSORIA',\n",
       "       '1.2 DÚVIDAS/INFORMAÇÕES GERAIS (FINANCEIRO)',\n",
       "       '1.2 ENVIO DE COMPROVANTE', '4. CANCELAMENTO',\n",
       "       '1.2 RETIRADA DE BOLETO (PRESENCIAL)', '1.2 ENVIO DE BOLETO',\n",
       "       'MIGRAÇÃO DE PLANO', '1.2 RECEBIMENTO DE MENSALIDADE (PRESENCIAL)',\n",
       "       '2. TROCA DE SENHA WIFI', '1.3 NEGATIVAÇÃO', 'UPGRADE',\n",
       "       '1.3 EXCLUSÃO NEGATIVAÇÃO', '2. LOS - RESIDENCIAL',\n",
       "       '2. INSTALAÇÃO DE ROTEADOR ADICIONAL EM COMODATO',\n",
       "       '2. LENTIDÃO/OSCILAÇÕES NA INTERNET - RESIDENCIAL', '1.1  ACORDO',\n",
       "       '3. INSTALAÇÃO FIBRA - RESIDENCIAL', '1.2 DESBLOQUEIO',\n",
       "       '2. DÚVIDAS/INFORMAÇÕES GERAIS', '3. PÓS-VENDA', 'DOWNGRADE',\n",
       "       '4. SOLICITAÇÃO DE CANCELAMENTO',\n",
       "       'MUDANÇA DE ENDEREÇO - RESIDENCIAL', 'DESPROVISIONAMENTO',\n",
       "       'MIGRAÇÃO DE TECNOLOGIA', '1.3 CARTA EXTRAJUDICIAL',\n",
       "       'RETORNAR CONTATO SUPORTE', 'RETORNAR CONTATO UPGRADE',\n",
       "       '1.2 MUDANÇA DE TITULARIDADE', 'RETORNAR CONTATO FINANCEIRO',\n",
       "       'ATENDIMENTO AO TÉCNICO', '6. PLATAFORMAS DE ENTRETENIMENTO',\n",
       "       '1.2 BLOQUEIO', '4. REVERSÃO DE CANCELAMENTO',\n",
       "       '1.2 ALTERAÇÃO DO VENCIMENTO', '2. PROBLEMA NO WIFI - RESIDENCIAL',\n",
       "       '2. SINAL ALTO - RESIDENCIAL', '8. INFRAESTRUTURA',\n",
       "       '2. TROCA DE EQUIPAMENTO - RESIDENCIAL', '2. TESTE DE VELOCIDADE',\n",
       "       '2. CONFERÊNCIA DE DOCUMENTAÇÃO', 'RETORNAR CONTATO COMERCIAL ',\n",
       "       '1.2 ENTREGA DE EQUIPAMENTO NA LOJA', '1.2 SUSPENSÃO TEMPORARIA',\n",
       "       '1.2 DESCONTO NA FATURA', '1.2 REATIVAÇÃO',\n",
       "       '2. MUDANÇA  DE LOCAL DO PONTO',\n",
       "       '2. ROTEADOR RESETADO - RESIDENCIAL', '2. 5.8(RÁDIO)',\n",
       "       '1.2 GERAR FATURA', '1.3 ASSESSORIA JURÍDICA ( EDMO )',\n",
       "       '2. HOME SERVICE SEM TAXA', 'SAC', '2. SUPORTE AO APP/CENTRAL',\n",
       "       '2. SUPORTE TECNICO', '3. DESISTÊNCIA DA INSTALAÇÃO',\n",
       "       '1.2 LIQUIDAR FATURA', '7. PREVENTIVO SUPORTE TÉCNICO',\n",
       "       '1. FINANCEIRO', '1.2 ATUALIZAÇÃO DE DADOS',\n",
       "       '1.2 MUDANÇA DE ENDEREÇO E MIGRAÇÃO', '7. VISTORIA TÉCNICA',\n",
       "       '2. SUPORTE INTERNO', '1.1  RENEGOCIAÇÃO ACORDO PAGO',\n",
       "       '1.2 EXCLUSÃO DE FATURA', 'MRE - ESTOQUE', '8. MANUTENÇÃO INTERNA',\n",
       "       '7. TAXA DE SERVIÇO EXTERNO '], dtype=object)"
      ]
     },
     "execution_count": 813,
     "metadata": {},
     "output_type": "execute_result"
    }
   ],
   "source": [
    "tipo = dataframe.descricao.value_counts() > 300\n",
    "dataframe = dataframe[dataframe['descricao'].isin(tipo[tipo == True].index)]\n",
    "dataframe.descricao.unique()"
   ]
  },
  {
   "cell_type": "code",
   "execution_count": 814,
   "metadata": {},
   "outputs": [
    {
     "name": "stderr",
     "output_type": "stream",
     "text": [
      "C:\\Users\\usuario\\AppData\\Local\\Temp\\ipykernel_8288\\488866001.py:4: FutureWarning: The frame.append method is deprecated and will be removed from pandas in a future version. Use pandas.concat instead.\n",
      "  novodataframe = novodataframe.append(df)\n",
      "C:\\Users\\usuario\\AppData\\Local\\Temp\\ipykernel_8288\\488866001.py:4: FutureWarning: The frame.append method is deprecated and will be removed from pandas in a future version. Use pandas.concat instead.\n",
      "  novodataframe = novodataframe.append(df)\n",
      "C:\\Users\\usuario\\AppData\\Local\\Temp\\ipykernel_8288\\488866001.py:4: FutureWarning: The frame.append method is deprecated and will be removed from pandas in a future version. Use pandas.concat instead.\n",
      "  novodataframe = novodataframe.append(df)\n",
      "C:\\Users\\usuario\\AppData\\Local\\Temp\\ipykernel_8288\\488866001.py:4: FutureWarning: The frame.append method is deprecated and will be removed from pandas in a future version. Use pandas.concat instead.\n",
      "  novodataframe = novodataframe.append(df)\n",
      "C:\\Users\\usuario\\AppData\\Local\\Temp\\ipykernel_8288\\488866001.py:4: FutureWarning: The frame.append method is deprecated and will be removed from pandas in a future version. Use pandas.concat instead.\n",
      "  novodataframe = novodataframe.append(df)\n",
      "C:\\Users\\usuario\\AppData\\Local\\Temp\\ipykernel_8288\\488866001.py:4: FutureWarning: The frame.append method is deprecated and will be removed from pandas in a future version. Use pandas.concat instead.\n",
      "  novodataframe = novodataframe.append(df)\n",
      "C:\\Users\\usuario\\AppData\\Local\\Temp\\ipykernel_8288\\488866001.py:4: FutureWarning: The frame.append method is deprecated and will be removed from pandas in a future version. Use pandas.concat instead.\n",
      "  novodataframe = novodataframe.append(df)\n",
      "C:\\Users\\usuario\\AppData\\Local\\Temp\\ipykernel_8288\\488866001.py:4: FutureWarning: The frame.append method is deprecated and will be removed from pandas in a future version. Use pandas.concat instead.\n",
      "  novodataframe = novodataframe.append(df)\n",
      "C:\\Users\\usuario\\AppData\\Local\\Temp\\ipykernel_8288\\488866001.py:4: FutureWarning: The frame.append method is deprecated and will be removed from pandas in a future version. Use pandas.concat instead.\n",
      "  novodataframe = novodataframe.append(df)\n",
      "C:\\Users\\usuario\\AppData\\Local\\Temp\\ipykernel_8288\\488866001.py:4: FutureWarning: The frame.append method is deprecated and will be removed from pandas in a future version. Use pandas.concat instead.\n",
      "  novodataframe = novodataframe.append(df)\n",
      "C:\\Users\\usuario\\AppData\\Local\\Temp\\ipykernel_8288\\488866001.py:4: FutureWarning: The frame.append method is deprecated and will be removed from pandas in a future version. Use pandas.concat instead.\n",
      "  novodataframe = novodataframe.append(df)\n",
      "C:\\Users\\usuario\\AppData\\Local\\Temp\\ipykernel_8288\\488866001.py:4: FutureWarning: The frame.append method is deprecated and will be removed from pandas in a future version. Use pandas.concat instead.\n",
      "  novodataframe = novodataframe.append(df)\n",
      "C:\\Users\\usuario\\AppData\\Local\\Temp\\ipykernel_8288\\488866001.py:4: FutureWarning: The frame.append method is deprecated and will be removed from pandas in a future version. Use pandas.concat instead.\n",
      "  novodataframe = novodataframe.append(df)\n",
      "C:\\Users\\usuario\\AppData\\Local\\Temp\\ipykernel_8288\\488866001.py:4: FutureWarning: The frame.append method is deprecated and will be removed from pandas in a future version. Use pandas.concat instead.\n",
      "  novodataframe = novodataframe.append(df)\n",
      "C:\\Users\\usuario\\AppData\\Local\\Temp\\ipykernel_8288\\488866001.py:4: FutureWarning: The frame.append method is deprecated and will be removed from pandas in a future version. Use pandas.concat instead.\n",
      "  novodataframe = novodataframe.append(df)\n",
      "C:\\Users\\usuario\\AppData\\Local\\Temp\\ipykernel_8288\\488866001.py:4: FutureWarning: The frame.append method is deprecated and will be removed from pandas in a future version. Use pandas.concat instead.\n",
      "  novodataframe = novodataframe.append(df)\n",
      "C:\\Users\\usuario\\AppData\\Local\\Temp\\ipykernel_8288\\488866001.py:4: FutureWarning: The frame.append method is deprecated and will be removed from pandas in a future version. Use pandas.concat instead.\n",
      "  novodataframe = novodataframe.append(df)\n",
      "C:\\Users\\usuario\\AppData\\Local\\Temp\\ipykernel_8288\\488866001.py:4: FutureWarning: The frame.append method is deprecated and will be removed from pandas in a future version. Use pandas.concat instead.\n",
      "  novodataframe = novodataframe.append(df)\n",
      "C:\\Users\\usuario\\AppData\\Local\\Temp\\ipykernel_8288\\488866001.py:4: FutureWarning: The frame.append method is deprecated and will be removed from pandas in a future version. Use pandas.concat instead.\n",
      "  novodataframe = novodataframe.append(df)\n",
      "C:\\Users\\usuario\\AppData\\Local\\Temp\\ipykernel_8288\\488866001.py:4: FutureWarning: The frame.append method is deprecated and will be removed from pandas in a future version. Use pandas.concat instead.\n",
      "  novodataframe = novodataframe.append(df)\n",
      "C:\\Users\\usuario\\AppData\\Local\\Temp\\ipykernel_8288\\488866001.py:4: FutureWarning: The frame.append method is deprecated and will be removed from pandas in a future version. Use pandas.concat instead.\n",
      "  novodataframe = novodataframe.append(df)\n",
      "C:\\Users\\usuario\\AppData\\Local\\Temp\\ipykernel_8288\\488866001.py:4: FutureWarning: The frame.append method is deprecated and will be removed from pandas in a future version. Use pandas.concat instead.\n",
      "  novodataframe = novodataframe.append(df)\n",
      "C:\\Users\\usuario\\AppData\\Local\\Temp\\ipykernel_8288\\488866001.py:4: FutureWarning: The frame.append method is deprecated and will be removed from pandas in a future version. Use pandas.concat instead.\n",
      "  novodataframe = novodataframe.append(df)\n",
      "C:\\Users\\usuario\\AppData\\Local\\Temp\\ipykernel_8288\\488866001.py:4: FutureWarning: The frame.append method is deprecated and will be removed from pandas in a future version. Use pandas.concat instead.\n",
      "  novodataframe = novodataframe.append(df)\n",
      "C:\\Users\\usuario\\AppData\\Local\\Temp\\ipykernel_8288\\488866001.py:4: FutureWarning: The frame.append method is deprecated and will be removed from pandas in a future version. Use pandas.concat instead.\n",
      "  novodataframe = novodataframe.append(df)\n",
      "C:\\Users\\usuario\\AppData\\Local\\Temp\\ipykernel_8288\\488866001.py:4: FutureWarning: The frame.append method is deprecated and will be removed from pandas in a future version. Use pandas.concat instead.\n",
      "  novodataframe = novodataframe.append(df)\n",
      "C:\\Users\\usuario\\AppData\\Local\\Temp\\ipykernel_8288\\488866001.py:4: FutureWarning: The frame.append method is deprecated and will be removed from pandas in a future version. Use pandas.concat instead.\n",
      "  novodataframe = novodataframe.append(df)\n",
      "C:\\Users\\usuario\\AppData\\Local\\Temp\\ipykernel_8288\\488866001.py:4: FutureWarning: The frame.append method is deprecated and will be removed from pandas in a future version. Use pandas.concat instead.\n",
      "  novodataframe = novodataframe.append(df)\n",
      "C:\\Users\\usuario\\AppData\\Local\\Temp\\ipykernel_8288\\488866001.py:4: FutureWarning: The frame.append method is deprecated and will be removed from pandas in a future version. Use pandas.concat instead.\n",
      "  novodataframe = novodataframe.append(df)\n",
      "C:\\Users\\usuario\\AppData\\Local\\Temp\\ipykernel_8288\\488866001.py:4: FutureWarning: The frame.append method is deprecated and will be removed from pandas in a future version. Use pandas.concat instead.\n",
      "  novodataframe = novodataframe.append(df)\n",
      "C:\\Users\\usuario\\AppData\\Local\\Temp\\ipykernel_8288\\488866001.py:4: FutureWarning: The frame.append method is deprecated and will be removed from pandas in a future version. Use pandas.concat instead.\n",
      "  novodataframe = novodataframe.append(df)\n",
      "C:\\Users\\usuario\\AppData\\Local\\Temp\\ipykernel_8288\\488866001.py:4: FutureWarning: The frame.append method is deprecated and will be removed from pandas in a future version. Use pandas.concat instead.\n",
      "  novodataframe = novodataframe.append(df)\n",
      "C:\\Users\\usuario\\AppData\\Local\\Temp\\ipykernel_8288\\488866001.py:4: FutureWarning: The frame.append method is deprecated and will be removed from pandas in a future version. Use pandas.concat instead.\n",
      "  novodataframe = novodataframe.append(df)\n",
      "C:\\Users\\usuario\\AppData\\Local\\Temp\\ipykernel_8288\\488866001.py:4: FutureWarning: The frame.append method is deprecated and will be removed from pandas in a future version. Use pandas.concat instead.\n",
      "  novodataframe = novodataframe.append(df)\n",
      "C:\\Users\\usuario\\AppData\\Local\\Temp\\ipykernel_8288\\488866001.py:4: FutureWarning: The frame.append method is deprecated and will be removed from pandas in a future version. Use pandas.concat instead.\n",
      "  novodataframe = novodataframe.append(df)\n",
      "C:\\Users\\usuario\\AppData\\Local\\Temp\\ipykernel_8288\\488866001.py:4: FutureWarning: The frame.append method is deprecated and will be removed from pandas in a future version. Use pandas.concat instead.\n",
      "  novodataframe = novodataframe.append(df)\n",
      "C:\\Users\\usuario\\AppData\\Local\\Temp\\ipykernel_8288\\488866001.py:4: FutureWarning: The frame.append method is deprecated and will be removed from pandas in a future version. Use pandas.concat instead.\n",
      "  novodataframe = novodataframe.append(df)\n",
      "C:\\Users\\usuario\\AppData\\Local\\Temp\\ipykernel_8288\\488866001.py:4: FutureWarning: The frame.append method is deprecated and will be removed from pandas in a future version. Use pandas.concat instead.\n",
      "  novodataframe = novodataframe.append(df)\n",
      "C:\\Users\\usuario\\AppData\\Local\\Temp\\ipykernel_8288\\488866001.py:4: FutureWarning: The frame.append method is deprecated and will be removed from pandas in a future version. Use pandas.concat instead.\n",
      "  novodataframe = novodataframe.append(df)\n",
      "C:\\Users\\usuario\\AppData\\Local\\Temp\\ipykernel_8288\\488866001.py:4: FutureWarning: The frame.append method is deprecated and will be removed from pandas in a future version. Use pandas.concat instead.\n",
      "  novodataframe = novodataframe.append(df)\n",
      "C:\\Users\\usuario\\AppData\\Local\\Temp\\ipykernel_8288\\488866001.py:4: FutureWarning: The frame.append method is deprecated and will be removed from pandas in a future version. Use pandas.concat instead.\n",
      "  novodataframe = novodataframe.append(df)\n",
      "C:\\Users\\usuario\\AppData\\Local\\Temp\\ipykernel_8288\\488866001.py:4: FutureWarning: The frame.append method is deprecated and will be removed from pandas in a future version. Use pandas.concat instead.\n",
      "  novodataframe = novodataframe.append(df)\n",
      "C:\\Users\\usuario\\AppData\\Local\\Temp\\ipykernel_8288\\488866001.py:4: FutureWarning: The frame.append method is deprecated and will be removed from pandas in a future version. Use pandas.concat instead.\n",
      "  novodataframe = novodataframe.append(df)\n",
      "C:\\Users\\usuario\\AppData\\Local\\Temp\\ipykernel_8288\\488866001.py:4: FutureWarning: The frame.append method is deprecated and will be removed from pandas in a future version. Use pandas.concat instead.\n",
      "  novodataframe = novodataframe.append(df)\n",
      "C:\\Users\\usuario\\AppData\\Local\\Temp\\ipykernel_8288\\488866001.py:4: FutureWarning: The frame.append method is deprecated and will be removed from pandas in a future version. Use pandas.concat instead.\n",
      "  novodataframe = novodataframe.append(df)\n",
      "C:\\Users\\usuario\\AppData\\Local\\Temp\\ipykernel_8288\\488866001.py:4: FutureWarning: The frame.append method is deprecated and will be removed from pandas in a future version. Use pandas.concat instead.\n",
      "  novodataframe = novodataframe.append(df)\n",
      "C:\\Users\\usuario\\AppData\\Local\\Temp\\ipykernel_8288\\488866001.py:4: FutureWarning: The frame.append method is deprecated and will be removed from pandas in a future version. Use pandas.concat instead.\n",
      "  novodataframe = novodataframe.append(df)\n",
      "C:\\Users\\usuario\\AppData\\Local\\Temp\\ipykernel_8288\\488866001.py:4: FutureWarning: The frame.append method is deprecated and will be removed from pandas in a future version. Use pandas.concat instead.\n",
      "  novodataframe = novodataframe.append(df)\n",
      "C:\\Users\\usuario\\AppData\\Local\\Temp\\ipykernel_8288\\488866001.py:4: FutureWarning: The frame.append method is deprecated and will be removed from pandas in a future version. Use pandas.concat instead.\n",
      "  novodataframe = novodataframe.append(df)\n",
      "C:\\Users\\usuario\\AppData\\Local\\Temp\\ipykernel_8288\\488866001.py:4: FutureWarning: The frame.append method is deprecated and will be removed from pandas in a future version. Use pandas.concat instead.\n",
      "  novodataframe = novodataframe.append(df)\n",
      "C:\\Users\\usuario\\AppData\\Local\\Temp\\ipykernel_8288\\488866001.py:4: FutureWarning: The frame.append method is deprecated and will be removed from pandas in a future version. Use pandas.concat instead.\n",
      "  novodataframe = novodataframe.append(df)\n",
      "C:\\Users\\usuario\\AppData\\Local\\Temp\\ipykernel_8288\\488866001.py:4: FutureWarning: The frame.append method is deprecated and will be removed from pandas in a future version. Use pandas.concat instead.\n",
      "  novodataframe = novodataframe.append(df)\n",
      "C:\\Users\\usuario\\AppData\\Local\\Temp\\ipykernel_8288\\488866001.py:4: FutureWarning: The frame.append method is deprecated and will be removed from pandas in a future version. Use pandas.concat instead.\n",
      "  novodataframe = novodataframe.append(df)\n",
      "C:\\Users\\usuario\\AppData\\Local\\Temp\\ipykernel_8288\\488866001.py:4: FutureWarning: The frame.append method is deprecated and will be removed from pandas in a future version. Use pandas.concat instead.\n",
      "  novodataframe = novodataframe.append(df)\n",
      "C:\\Users\\usuario\\AppData\\Local\\Temp\\ipykernel_8288\\488866001.py:4: FutureWarning: The frame.append method is deprecated and will be removed from pandas in a future version. Use pandas.concat instead.\n",
      "  novodataframe = novodataframe.append(df)\n",
      "C:\\Users\\usuario\\AppData\\Local\\Temp\\ipykernel_8288\\488866001.py:4: FutureWarning: The frame.append method is deprecated and will be removed from pandas in a future version. Use pandas.concat instead.\n",
      "  novodataframe = novodataframe.append(df)\n",
      "C:\\Users\\usuario\\AppData\\Local\\Temp\\ipykernel_8288\\488866001.py:4: FutureWarning: The frame.append method is deprecated and will be removed from pandas in a future version. Use pandas.concat instead.\n",
      "  novodataframe = novodataframe.append(df)\n",
      "C:\\Users\\usuario\\AppData\\Local\\Temp\\ipykernel_8288\\488866001.py:4: FutureWarning: The frame.append method is deprecated and will be removed from pandas in a future version. Use pandas.concat instead.\n",
      "  novodataframe = novodataframe.append(df)\n",
      "C:\\Users\\usuario\\AppData\\Local\\Temp\\ipykernel_8288\\488866001.py:4: FutureWarning: The frame.append method is deprecated and will be removed from pandas in a future version. Use pandas.concat instead.\n",
      "  novodataframe = novodataframe.append(df)\n",
      "C:\\Users\\usuario\\AppData\\Local\\Temp\\ipykernel_8288\\488866001.py:4: FutureWarning: The frame.append method is deprecated and will be removed from pandas in a future version. Use pandas.concat instead.\n",
      "  novodataframe = novodataframe.append(df)\n",
      "C:\\Users\\usuario\\AppData\\Local\\Temp\\ipykernel_8288\\488866001.py:4: FutureWarning: The frame.append method is deprecated and will be removed from pandas in a future version. Use pandas.concat instead.\n",
      "  novodataframe = novodataframe.append(df)\n",
      "C:\\Users\\usuario\\AppData\\Local\\Temp\\ipykernel_8288\\488866001.py:4: FutureWarning: The frame.append method is deprecated and will be removed from pandas in a future version. Use pandas.concat instead.\n",
      "  novodataframe = novodataframe.append(df)\n",
      "C:\\Users\\usuario\\AppData\\Local\\Temp\\ipykernel_8288\\488866001.py:4: FutureWarning: The frame.append method is deprecated and will be removed from pandas in a future version. Use pandas.concat instead.\n",
      "  novodataframe = novodataframe.append(df)\n",
      "C:\\Users\\usuario\\AppData\\Local\\Temp\\ipykernel_8288\\488866001.py:4: FutureWarning: The frame.append method is deprecated and will be removed from pandas in a future version. Use pandas.concat instead.\n",
      "  novodataframe = novodataframe.append(df)\n",
      "C:\\Users\\usuario\\AppData\\Local\\Temp\\ipykernel_8288\\488866001.py:4: FutureWarning: The frame.append method is deprecated and will be removed from pandas in a future version. Use pandas.concat instead.\n",
      "  novodataframe = novodataframe.append(df)\n",
      "C:\\Users\\usuario\\AppData\\Local\\Temp\\ipykernel_8288\\488866001.py:4: FutureWarning: The frame.append method is deprecated and will be removed from pandas in a future version. Use pandas.concat instead.\n",
      "  novodataframe = novodataframe.append(df)\n",
      "C:\\Users\\usuario\\AppData\\Local\\Temp\\ipykernel_8288\\488866001.py:4: FutureWarning: The frame.append method is deprecated and will be removed from pandas in a future version. Use pandas.concat instead.\n",
      "  novodataframe = novodataframe.append(df)\n",
      "C:\\Users\\usuario\\AppData\\Local\\Temp\\ipykernel_8288\\488866001.py:4: FutureWarning: The frame.append method is deprecated and will be removed from pandas in a future version. Use pandas.concat instead.\n",
      "  novodataframe = novodataframe.append(df)\n",
      "C:\\Users\\usuario\\AppData\\Local\\Temp\\ipykernel_8288\\488866001.py:4: FutureWarning: The frame.append method is deprecated and will be removed from pandas in a future version. Use pandas.concat instead.\n",
      "  novodataframe = novodataframe.append(df)\n",
      "C:\\Users\\usuario\\AppData\\Local\\Temp\\ipykernel_8288\\488866001.py:4: FutureWarning: The frame.append method is deprecated and will be removed from pandas in a future version. Use pandas.concat instead.\n",
      "  novodataframe = novodataframe.append(df)\n",
      "C:\\Users\\usuario\\AppData\\Local\\Temp\\ipykernel_8288\\488866001.py:4: FutureWarning: The frame.append method is deprecated and will be removed from pandas in a future version. Use pandas.concat instead.\n",
      "  novodataframe = novodataframe.append(df)\n",
      "C:\\Users\\usuario\\AppData\\Local\\Temp\\ipykernel_8288\\488866001.py:4: FutureWarning: The frame.append method is deprecated and will be removed from pandas in a future version. Use pandas.concat instead.\n",
      "  novodataframe = novodataframe.append(df)\n",
      "C:\\Users\\usuario\\AppData\\Local\\Temp\\ipykernel_8288\\488866001.py:4: FutureWarning: The frame.append method is deprecated and will be removed from pandas in a future version. Use pandas.concat instead.\n",
      "  novodataframe = novodataframe.append(df)\n"
     ]
    }
   ],
   "source": [
    "novodataframe = pd.DataFrame(columns=['descricao_abertura', 'descricao'])\n",
    "for descricao in dataframe.descricao.unique():\n",
    "        df = dataframe.query('descricao == \"{}\"'.format(descricao)).head(300)\n",
    "        novodataframe = novodataframe.append(df)\n",
    "listaDescricao = list(novodataframe.descricao.unique())\n",
    "\n",
    "# for i in range(0, (len(listaDescricao))):\n",
    "#     novodataframe['descricao'][novodataframe['descricao'] == listaDescricao[i]] = i\n",
    "# novodataframe\n"
   ]
  },
  {
   "cell_type": "code",
   "execution_count": 815,
   "metadata": {},
   "outputs": [
    {
     "name": "stderr",
     "output_type": "stream",
     "text": [
      "c:\\Users\\usuario\\Documents\\Python\\ia-pln-atendimento\\env\\lib\\site-packages\\seaborn\\_decorators.py:36: FutureWarning: Pass the following variable as a keyword arg: x. From version 0.12, the only valid positional argument will be `data`, and passing other arguments without an explicit keyword will result in an error or misinterpretation.\n",
      "  warnings.warn(\n"
     ]
    },
    {
     "data": {
      "image/png": "[encoded data removed]",
      "text/plain": [
       "<Figure size 432x288 with 1 Axes>"
      ]
     },
     "metadata": {
      "needs_background": "light"
     },
     "output_type": "display_data"
    }
   ],
   "source": [
    "sns.countplot(novodataframe.descricao);"
   ]
  },
  {
   "cell_type": "code",
   "execution_count": 816,
   "metadata": {},
   "outputs": [
    {
     "data": {
      "text/plain": [
       "numpy.ndarray"
      ]
     },
     "execution_count": 816,
     "metadata": {},
     "output_type": "execute_result"
    }
   ],
   "source": [
    "X = novodataframe.iloc[:, 0].values\n",
    "type(X)"
   ]
  },
  {
   "cell_type": "code",
   "execution_count": 817,
   "metadata": {},
   "outputs": [
    {
     "data": {
      "text/plain": [
       "(21900,)"
      ]
     },
     "execution_count": 817,
     "metadata": {},
     "output_type": "execute_result"
    }
   ],
   "source": [
    "X.shape"
   ]
  },
  {
   "cell_type": "code",
   "execution_count": 819,
   "metadata": {},
   "outputs": [
    {
     "data": {
      "text/plain": [
       "array([66, 66, 66, ..., 55, 55, 55])"
      ]
     },
     "execution_count": 819,
     "metadata": {},
     "output_type": "execute_result"
    }
   ],
   "source": [
    "y = novodataframe.iloc[:, 1].values\n",
    "le = preprocessing.LabelEncoder()\n",
    "y = le.fit_transform(y)\n",
    "y"
   ]
  },
  {
   "cell_type": "code",
   "execution_count": 820,
   "metadata": {},
   "outputs": [
    {
     "data": {
      "text/plain": [
       "(21900,)"
      ]
     },
     "execution_count": 820,
     "metadata": {},
     "output_type": "execute_result"
    }
   ],
   "source": [
    "y.shape"
   ]
  },
  {
   "cell_type": "code",
   "execution_count": 821,
   "metadata": {},
   "outputs": [],
   "source": [
    "X,_,y,_ = train_test_split(X, y, test_size=0.85, stratify=y)"
   ]
  },
  {
   "cell_type": "code",
   "execution_count": 822,
   "metadata": {},
   "outputs": [],
   "source": [
    "def clean_text(text):\n",
    "    text = re.sub(r'[^a-zA-Z]', ' ', text)\n",
    "    text = re.sub(r'\\s+', ' ', text)\n",
    "    return text.lower()"
   ]
  },
  {
   "cell_type": "code",
   "execution_count": 823,
   "metadata": {},
   "outputs": [
    {
     "data": {
      "text/plain": [
       "'cliente relata que no momento esta sem conex o assim que restabelecer o sinal a conex o cai novamente a mesma relata queda constante a mesma informa que pessoal da hd informou que o problema e no conector o mesmo est com remendo telefone cliente est com muitas quedas no pppoe informa que quando meche no cabo que conecta equipamentos sua conex o cai e volta novamente '"
      ]
     },
     "execution_count": 823,
     "metadata": {},
     "output_type": "execute_result"
    }
   ],
   "source": [
    "texto = 'Cliente relata que no momento esta sem conexão, assim que  restabelecer o sinal a conexão cai novamente a mesma relata queda constante. A mesma informa que pessoal da HD informou que o problema e no conector, o mesmo está com remendo.\\nTelefone:(62) 93837298  (62)99884926.\\n\\nCliente está com muitas quedas no PPPoE, informa que quando meche no cabo que conecta equipamentos sua conexão cai e volta novamente.'\n",
    "novo_texto = clean_text(texto)\n",
    "novo_texto"
   ]
  },
  {
   "cell_type": "code",
   "execution_count": null,
   "metadata": {},
   "outputs": [],
   "source": [
    "nlp = sp.load('pt_core_news_sm')"
   ]
  },
  {
   "cell_type": "code",
   "execution_count": 825,
   "metadata": {},
   "outputs": [],
   "source": [
    "stop_words = sp.lang.pt.STOP_WORDS"
   ]
  },
  {
   "cell_type": "code",
   "execution_count": 826,
   "metadata": {},
   "outputs": [],
   "source": [
    "def clean_text2(text):\n",
    "    document = nlp(text)\n",
    "    words = [token.text for token in document]\n",
    "    words = [word for word in words if word not in stop_words]\n",
    "    words = ' '.join([str(element) for element in words])\n",
    "    return words"
   ]
  },
  {
   "cell_type": "code",
   "execution_count": 827,
   "metadata": {},
   "outputs": [
    {
     "data": {
      "text/plain": [
       "'cliente relata conex restabelecer sinal conex cai novamente mesma relata queda constante mesma informa pessoal hd informou problema conector est remendo telefone cliente est muitas quedas pppoe informa meche cabo conecta equipamentos conex cai volta novamente'"
      ]
     },
     "execution_count": 827,
     "metadata": {},
     "output_type": "execute_result"
    }
   ],
   "source": [
    "novo_texto2 = clean_text2(novo_texto)\n",
    "novo_texto2"
   ]
  },
  {
   "cell_type": "code",
   "execution_count": 828,
   "metadata": {},
   "outputs": [],
   "source": [
    "data_labels = y"
   ]
  },
  {
   "cell_type": "code",
   "execution_count": 829,
   "metadata": {},
   "outputs": [
    {
     "data": {
      "text/plain": [
       "array([ 0,  1,  2,  3,  4,  5,  6,  7,  8,  9, 10, 11, 12, 13, 14, 15, 16,\n",
       "       17, 18, 19, 20, 21, 22, 23, 24, 25, 26, 27, 28, 29, 30, 31, 32, 33,\n",
       "       34, 35, 36, 37, 38, 39, 40, 41, 42, 43, 44, 45, 46, 47, 48, 49, 50,\n",
       "       51, 52, 53, 54, 55, 56, 57, 58, 59, 60, 61, 62, 63, 64, 65, 66, 67,\n",
       "       68, 69, 70, 71, 72])"
      ]
     },
     "execution_count": 829,
     "metadata": {},
     "output_type": "execute_result"
    }
   ],
   "source": [
    "np.unique(data_labels)"
   ]
  },
  {
   "cell_type": "code",
   "execution_count": 830,
   "metadata": {},
   "outputs": [],
   "source": [
    "data_clean = [clean_text2(clean_text(text)) for text in X]"
   ]
  },
  {
   "cell_type": "markdown",
   "metadata": {},
   "source": [
    "TOKENIZAÇÃO"
   ]
  },
  {
   "cell_type": "code",
   "execution_count": 831,
   "metadata": {},
   "outputs": [],
   "source": [
    "tokenizer = tfds.deprecated.text.SubwordTextEncoder.build_from_corpus(data_clean, target_vocab_size=2**16)"
   ]
  },
  {
   "cell_type": "code",
   "execution_count": 832,
   "metadata": {},
   "outputs": [
    {
     "data": {
      "text/plain": [
       "4082"
      ]
     },
     "execution_count": 832,
     "metadata": {},
     "output_type": "execute_result"
    }
   ],
   "source": [
    "tokenizer.vocab_size"
   ]
  },
  {
   "cell_type": "code",
   "execution_count": null,
   "metadata": {},
   "outputs": [],
   "source": [
    "print(tokenizer.subwords)"
   ]
  },
  {
   "cell_type": "code",
   "execution_count": 834,
   "metadata": {},
   "outputs": [],
   "source": [
    "data_inputs = [tokenizer.encode(text) for text in data_clean]"
   ]
  },
  {
   "cell_type": "markdown",
   "metadata": {},
   "source": [
    "PREENCHIMENTO - PADDING"
   ]
  },
  {
   "cell_type": "code",
   "execution_count": 835,
   "metadata": {},
   "outputs": [
    {
     "data": {
      "text/plain": [
       "109"
      ]
     },
     "execution_count": 835,
     "metadata": {},
     "output_type": "execute_result"
    }
   ],
   "source": [
    "max_len = max([len(s) for s in data_inputs])\n",
    "max_len"
   ]
  },
  {
   "cell_type": "code",
   "execution_count": 836,
   "metadata": {},
   "outputs": [],
   "source": [
    "data_inputs = tf.keras.preprocessing.sequence.pad_sequences(data_inputs, value=0, maxlen=max_len, padding='post')"
   ]
  },
  {
   "cell_type": "markdown",
   "metadata": {},
   "source": [
    "DIVISAO DA BASE DE DADOS EM TREINAMENTO E TESTE"
   ]
  },
  {
   "cell_type": "code",
   "execution_count": 837,
   "metadata": {},
   "outputs": [],
   "source": [
    "train_inputs, test_inputs, train_labels, test_labels = train_test_split(data_inputs, data_labels, test_size=0.3, stratify=data_labels)"
   ]
  },
  {
   "cell_type": "code",
   "execution_count": 838,
   "metadata": {},
   "outputs": [
    {
     "data": {
      "text/plain": [
       "(2299, 109)"
      ]
     },
     "execution_count": 838,
     "metadata": {},
     "output_type": "execute_result"
    }
   ],
   "source": [
    "train_inputs.shape"
   ]
  },
  {
   "cell_type": "code",
   "execution_count": 839,
   "metadata": {},
   "outputs": [
    {
     "data": {
      "text/plain": [
       "(2299,)"
      ]
     },
     "execution_count": 839,
     "metadata": {},
     "output_type": "execute_result"
    }
   ],
   "source": [
    "train_labels.shape"
   ]
  },
  {
   "cell_type": "code",
   "execution_count": 840,
   "metadata": {},
   "outputs": [
    {
     "data": {
      "text/plain": [
       "(986,)"
      ]
     },
     "execution_count": 840,
     "metadata": {},
     "output_type": "execute_result"
    }
   ],
   "source": [
    "test_labels.shape"
   ]
  },
  {
   "cell_type": "code",
   "execution_count": 841,
   "metadata": {},
   "outputs": [
    {
     "data": {
      "text/plain": [
       "(986, 109)"
      ]
     },
     "execution_count": 841,
     "metadata": {},
     "output_type": "execute_result"
    }
   ],
   "source": [
    "test_inputs.shape"
   ]
  },
  {
   "cell_type": "markdown",
   "metadata": {},
   "source": [
    "CONSTRUÇÃO DO MODELO"
   ]
  },
  {
   "cell_type": "code",
   "execution_count": 842,
   "metadata": {},
   "outputs": [],
   "source": [
    "class DCNN(tf.keras.Model):\n",
    "    def __init__(self, vocab_size, embedding_dim=128,filter=50,ffn_units=512, num_classes=2, dropout_rate=0.1,training=False,name='DCNN'):\n",
    "        super(DCNN, self).__init__(name=name)\n",
    "        \n",
    "        self.embedding = layers.Embedding(vocab_size, embedding_dim)\n",
    "        self.bigram = layers.Conv1D(\n",
    "            filter, 2, padding='same', activation='relu')\n",
    "        self.trigram = layers.Conv1D(\n",
    "            filter, 3, padding='same', activation='relu')\n",
    "        self.fourgram = layers.Conv1D(\n",
    "            filter, 4, padding='same', activation='relu')\n",
    "        self.pool = layers.GlobalMaxPool1D()\n",
    "        self.dense_1 = layers.Dense(ffn_units, activation='relu')\n",
    "        self.droput = layers.Dropout(dropout_rate)\n",
    "        if num_classes == 2:\n",
    "            self.last_dense = layers.Dense(1, activation='sigmoid')\n",
    "        else:\n",
    "            self.last_dense = layers.Dense(num_classes,activation='softmax')\n",
    "    \n",
    "    def call(self, inputs, training):\n",
    "        x = self.embedding(inputs)\n",
    "        x_1 = self.bigram(x)\n",
    "        x_1 = self.pool(x_1)\n",
    "        x_2 = self.trigram(x)\n",
    "        x_2 = self.pool(x_2)\n",
    "        x_3 = self.fourgram(x)\n",
    "        x_3 = self.pool(x_3)\n",
    "        \n",
    "        merged = tf.concat([x_1, x_2, x_3], axis=-1)\n",
    "        merged = self.dense_1(merged)\n",
    "        merged = self.droput(merged,training)\n",
    "        outupt = self.last_dense(merged)\n",
    "        \n",
    "        return outupt\n",
    "        "
   ]
  },
  {
   "cell_type": "markdown",
   "metadata": {},
   "source": [
    "TREINAMENTO"
   ]
  },
  {
   "cell_type": "code",
   "execution_count": 843,
   "metadata": {},
   "outputs": [
    {
     "data": {
      "text/plain": [
       "4082"
      ]
     },
     "execution_count": 843,
     "metadata": {},
     "output_type": "execute_result"
    }
   ],
   "source": [
    "vocab_size =tokenizer.vocab_size\n",
    "vocab_size"
   ]
  },
  {
   "cell_type": "code",
   "execution_count": 844,
   "metadata": {},
   "outputs": [],
   "source": [
    "emb_dim = 200\n",
    "nb_filters =100\n",
    "ff_units = 100\n",
    "batch_size = 64\n",
    "num_classes = len(set(train_labels))\n",
    "dropout_rate = 0.2\n",
    "np_epochs = 50"
   ]
  },
  {
   "cell_type": "code",
   "execution_count": 845,
   "metadata": {},
   "outputs": [],
   "source": [
    "Dcnn = DCNN(vocab_size, embedding_dim=emb_dim, filter=nb_filters, ffn_units=ff_units, num_classes=num_classes, dropout_rate=dropout_rate)"
   ]
  },
  {
   "cell_type": "code",
   "execution_count": 846,
   "metadata": {},
   "outputs": [],
   "source": [
    "if num_classes == 2:\n",
    "    Dcnn.compile(loss='binary_crossentropy', optimizer='adam', metrics=['accuracy'])\n",
    "else:\n",
    "    Dcnn.compile(loss='sparse_categorical_crossentropy', optimizer='adam', metrics=['accuracy'])"
   ]
  },
  {
   "cell_type": "code",
   "execution_count": 847,
   "metadata": {},
   "outputs": [],
   "source": [
    "# checkpoint = \"base/\"\n",
    "# ckpt = tf.train.Checkpoint(Dcnn=Dcnn)\n",
    "# ckpt_manager = tf.train.CheckpointManager(ckpt, checkpoint, max_to_keep=5)\n",
    "# if ckpt_manager.latest_checkpoint:\n",
    "#     ckpt.restore(ckpt_manager.latest_checkpoint)\n",
    "#     print('Latest checkpoint restored!!')"
   ]
  },
  {
   "cell_type": "code",
   "execution_count": 848,
   "metadata": {},
   "outputs": [
    {
     "name": "stdout",
     "output_type": "stream",
     "text": [
      "Epoch 1/50\n",
      "33/33 [==============================] - 4s 95ms/step - loss: 4.2396 - accuracy: 0.0836 - val_loss: 4.1297 - val_accuracy: 0.2696\n",
      "Epoch 2/50\n",
      "33/33 [==============================] - 3s 92ms/step - loss: 3.9370 - accuracy: 0.2905 - val_loss: 3.7183 - val_accuracy: 0.3783\n",
      "Epoch 3/50\n",
      "33/33 [==============================] - 3s 90ms/step - loss: 3.2776 - accuracy: 0.3992 - val_loss: 2.9511 - val_accuracy: 0.4522\n",
      "Epoch 4/50\n",
      "33/33 [==============================] - 3s 87ms/step - loss: 2.3918 - accuracy: 0.5278 - val_loss: 2.2597 - val_accuracy: 0.5565\n",
      "Epoch 5/50\n",
      "33/33 [==============================] - 3s 87ms/step - loss: 1.6756 - accuracy: 0.6390 - val_loss: 1.8836 - val_accuracy: 0.5957\n",
      "Epoch 6/50\n",
      "33/33 [==============================] - 3s 90ms/step - loss: 1.1964 - accuracy: 0.7380 - val_loss: 1.7222 - val_accuracy: 0.6261\n",
      "Epoch 7/50\n",
      "33/33 [==============================] - 3s 85ms/step - loss: 0.8780 - accuracy: 0.8047 - val_loss: 1.6260 - val_accuracy: 0.6087\n",
      "Epoch 8/50\n",
      "33/33 [==============================] - 3s 85ms/step - loss: 0.6090 - accuracy: 0.8690 - val_loss: 1.6263 - val_accuracy: 0.6261\n",
      "Epoch 9/50\n",
      "33/33 [==============================] - 3s 88ms/step - loss: 0.4727 - accuracy: 0.8956 - val_loss: 1.5854 - val_accuracy: 0.6348\n",
      "Epoch 10/50\n",
      "33/33 [==============================] - 3s 86ms/step - loss: 0.3780 - accuracy: 0.9140 - val_loss: 1.6404 - val_accuracy: 0.6391\n",
      "Epoch 11/50\n",
      "33/33 [==============================] - 3s 89ms/step - loss: 0.3027 - accuracy: 0.9280 - val_loss: 1.6335 - val_accuracy: 0.6522\n",
      "Epoch 12/50\n",
      "33/33 [==============================] - 4s 109ms/step - loss: 0.2453 - accuracy: 0.9454 - val_loss: 1.6680 - val_accuracy: 0.6391\n",
      "Epoch 13/50\n",
      "33/33 [==============================] - 3s 91ms/step - loss: 0.2192 - accuracy: 0.9454 - val_loss: 1.6912 - val_accuracy: 0.6217\n",
      "Epoch 14/50\n",
      "33/33 [==============================] - 3s 94ms/step - loss: 0.1898 - accuracy: 0.9536 - val_loss: 1.7163 - val_accuracy: 0.6478\n",
      "Epoch 15/50\n",
      "33/33 [==============================] - 3s 98ms/step - loss: 0.1810 - accuracy: 0.9497 - val_loss: 1.6718 - val_accuracy: 0.6565\n",
      "Epoch 16/50\n",
      "33/33 [==============================] - 3s 106ms/step - loss: 0.1776 - accuracy: 0.9507 - val_loss: 1.7364 - val_accuracy: 0.6435\n",
      "Epoch 17/50\n",
      "33/33 [==============================] - 3s 92ms/step - loss: 0.1506 - accuracy: 0.9555 - val_loss: 1.7613 - val_accuracy: 0.6391\n",
      "Epoch 18/50\n",
      "33/33 [==============================] - 3s 91ms/step - loss: 0.1526 - accuracy: 0.9522 - val_loss: 1.7701 - val_accuracy: 0.6261\n",
      "Epoch 19/50\n",
      "33/33 [==============================] - 3s 90ms/step - loss: 0.1496 - accuracy: 0.9526 - val_loss: 1.7693 - val_accuracy: 0.6565\n",
      "Epoch 20/50\n",
      "33/33 [==============================] - 3s 90ms/step - loss: 0.1407 - accuracy: 0.9531 - val_loss: 1.7854 - val_accuracy: 0.6565\n",
      "Epoch 21/50\n",
      "33/33 [==============================] - 3s 91ms/step - loss: 0.1333 - accuracy: 0.9580 - val_loss: 1.7825 - val_accuracy: 0.6391\n",
      "Epoch 22/50\n",
      "33/33 [==============================] - 3s 92ms/step - loss: 0.1347 - accuracy: 0.9580 - val_loss: 1.8434 - val_accuracy: 0.6522\n",
      "Epoch 23/50\n",
      "33/33 [==============================] - 3s 100ms/step - loss: 0.1229 - accuracy: 0.9633 - val_loss: 1.8638 - val_accuracy: 0.6478\n",
      "Epoch 24/50\n",
      "33/33 [==============================] - 3s 96ms/step - loss: 0.1200 - accuracy: 0.9584 - val_loss: 1.8402 - val_accuracy: 0.6565\n",
      "Epoch 25/50\n",
      "33/33 [==============================] - 3s 92ms/step - loss: 0.1201 - accuracy: 0.9570 - val_loss: 1.8921 - val_accuracy: 0.6435\n",
      "Epoch 26/50\n",
      "33/33 [==============================] - 3s 93ms/step - loss: 0.1087 - accuracy: 0.9638 - val_loss: 1.8867 - val_accuracy: 0.6478\n",
      "Epoch 27/50\n",
      "33/33 [==============================] - 3s 92ms/step - loss: 0.1077 - accuracy: 0.9604 - val_loss: 1.8747 - val_accuracy: 0.6478\n",
      "Epoch 28/50\n",
      "33/33 [==============================] - 3s 93ms/step - loss: 0.1079 - accuracy: 0.9633 - val_loss: 1.8988 - val_accuracy: 0.6522\n",
      "Epoch 29/50\n",
      "33/33 [==============================] - 3s 92ms/step - loss: 0.1134 - accuracy: 0.9580 - val_loss: 1.8815 - val_accuracy: 0.6652\n",
      "Epoch 30/50\n",
      "33/33 [==============================] - 3s 92ms/step - loss: 0.1220 - accuracy: 0.9541 - val_loss: 1.9059 - val_accuracy: 0.6522\n",
      "Epoch 31/50\n",
      "33/33 [==============================] - 3s 93ms/step - loss: 0.1064 - accuracy: 0.9594 - val_loss: 1.8854 - val_accuracy: 0.6609\n",
      "Epoch 32/50\n",
      "33/33 [==============================] - 3s 99ms/step - loss: 0.1052 - accuracy: 0.9589 - val_loss: 1.9267 - val_accuracy: 0.6652\n",
      "Epoch 33/50\n",
      "33/33 [==============================] - 3s 93ms/step - loss: 0.1082 - accuracy: 0.9589 - val_loss: 1.9581 - val_accuracy: 0.6565\n",
      "Epoch 34/50\n",
      "33/33 [==============================] - 3s 92ms/step - loss: 0.1127 - accuracy: 0.9536 - val_loss: 1.9617 - val_accuracy: 0.6696\n",
      "Epoch 35/50\n",
      "33/33 [==============================] - 3s 93ms/step - loss: 0.1048 - accuracy: 0.9589 - val_loss: 1.9563 - val_accuracy: 0.6609\n",
      "Epoch 36/50\n",
      "33/33 [==============================] - 3s 99ms/step - loss: 0.1014 - accuracy: 0.9647 - val_loss: 1.9976 - val_accuracy: 0.6652\n",
      "Epoch 37/50\n",
      "33/33 [==============================] - 3s 90ms/step - loss: 0.1048 - accuracy: 0.9638 - val_loss: 1.9648 - val_accuracy: 0.6565\n",
      "Epoch 38/50\n",
      "33/33 [==============================] - 3s 89ms/step - loss: 0.1039 - accuracy: 0.9560 - val_loss: 1.9557 - val_accuracy: 0.6565\n",
      "Epoch 39/50\n",
      "33/33 [==============================] - 3s 93ms/step - loss: 0.1081 - accuracy: 0.9604 - val_loss: 2.0180 - val_accuracy: 0.6478\n",
      "Epoch 40/50\n",
      "33/33 [==============================] - 3s 89ms/step - loss: 0.1004 - accuracy: 0.9594 - val_loss: 2.0076 - val_accuracy: 0.6565\n",
      "Epoch 41/50\n",
      "33/33 [==============================] - 3s 92ms/step - loss: 0.1102 - accuracy: 0.9580 - val_loss: 1.9776 - val_accuracy: 0.6565\n",
      "Epoch 42/50\n",
      "33/33 [==============================] - 3s 88ms/step - loss: 0.1048 - accuracy: 0.9594 - val_loss: 2.0046 - val_accuracy: 0.6565\n",
      "Epoch 43/50\n",
      "33/33 [==============================] - 3s 89ms/step - loss: 0.0969 - accuracy: 0.9594 - val_loss: 1.9928 - val_accuracy: 0.6609\n",
      "Epoch 44/50\n",
      "33/33 [==============================] - 3s 89ms/step - loss: 0.0935 - accuracy: 0.9647 - val_loss: 2.0341 - val_accuracy: 0.6565\n",
      "Epoch 45/50\n",
      "33/33 [==============================] - 3s 88ms/step - loss: 0.0971 - accuracy: 0.9584 - val_loss: 2.0727 - val_accuracy: 0.6478\n",
      "Epoch 46/50\n",
      "33/33 [==============================] - 3s 89ms/step - loss: 0.0921 - accuracy: 0.9599 - val_loss: 2.0776 - val_accuracy: 0.6565\n",
      "Epoch 47/50\n",
      "33/33 [==============================] - 3s 88ms/step - loss: 0.0984 - accuracy: 0.9584 - val_loss: 2.0760 - val_accuracy: 0.6565\n",
      "Epoch 48/50\n",
      "33/33 [==============================] - 3s 91ms/step - loss: 0.0955 - accuracy: 0.9613 - val_loss: 2.1035 - val_accuracy: 0.6478\n",
      "Epoch 49/50\n",
      "33/33 [==============================] - 3s 89ms/step - loss: 0.0942 - accuracy: 0.9599 - val_loss: 2.1132 - val_accuracy: 0.6435\n",
      "Epoch 50/50\n",
      "33/33 [==============================] - 3s 88ms/step - loss: 0.0980 - accuracy: 0.9618 - val_loss: 2.1139 - val_accuracy: 0.6522\n"
     ]
    }
   ],
   "source": [
    "history = Dcnn.fit(train_inputs, train_labels,batch_size=batch_size, epochs=np_epochs, validation_split=0.10, verbose=1)\n",
    "#ckpt_manager.save()"
   ]
  },
  {
   "cell_type": "code",
   "execution_count": 849,
   "metadata": {},
   "outputs": [
    {
     "name": "stdout",
     "output_type": "stream",
     "text": [
      "16/16 [==============================] - 0s 16ms/step - loss: 2.2047 - accuracy: 0.6126\n",
      "[2.204684019088745, 0.6125760674476624]\n"
     ]
    }
   ],
   "source": [
    "results = Dcnn.evaluate(test_inputs, test_labels,batch_size=batch_size)\n",
    "print(results)"
   ]
  },
  {
   "cell_type": "code",
   "execution_count": 850,
   "metadata": {},
   "outputs": [],
   "source": [
    "y_pred_test = Dcnn.predict(test_inputs)"
   ]
  },
  {
   "cell_type": "code",
   "execution_count": 851,
   "metadata": {},
   "outputs": [
    {
     "data": {
      "text/plain": [
       "array([[1.9608941e-03, 6.4777820e-03, 2.4552159e-02, ..., 4.9630919e-05,\n",
       "        8.7251590e-04, 1.4127697e-03],\n",
       "       [1.1017933e-05, 1.1424855e-01, 2.5355868e-04, ..., 2.4147045e-04,\n",
       "        3.9874634e-04, 1.0346397e-06],\n",
       "       [1.3793342e-11, 6.3672409e-12, 2.5428642e-08, ..., 1.4702874e-13,\n",
       "        6.5357729e-13, 2.2911072e-12],\n",
       "       ...,\n",
       "       [3.5272994e-06, 1.2409299e-03, 2.8410819e-04, ..., 4.4672049e-04,\n",
       "        2.0792877e-02, 1.9001268e-07],\n",
       "       [9.6317985e-05, 3.2918808e-06, 1.7089009e-05, ..., 6.7902228e-08,\n",
       "        3.0073646e-04, 3.6466325e-05],\n",
       "       [1.0157646e-07, 4.9931121e-09, 1.4949779e-09, ..., 1.3172874e-08,\n",
       "        1.1968085e-07, 1.1623454e-05]], dtype=float32)"
      ]
     },
     "execution_count": 851,
     "metadata": {},
     "output_type": "execute_result"
    }
   ],
   "source": [
    "y_pred_test"
   ]
  },
  {
   "cell_type": "code",
   "execution_count": 852,
   "metadata": {},
   "outputs": [
    {
     "data": {
      "text/plain": [
       "[1,\n",
       " 28,\n",
       " 936,\n",
       " 4021,\n",
       " 3993,\n",
       " 3923,\n",
       " 3858,\n",
       " 3926,\n",
       " 3927,\n",
       " 3858,\n",
       " 226,\n",
       " 4021,\n",
       " 3993,\n",
       " 3937,\n",
       " 3858,\n",
       " 3926,\n",
       " 3927,\n",
       " 3858,\n",
       " 521]"
      ]
     },
     "execution_count": 852,
     "metadata": {},
     "output_type": "execute_result"
    }
   ],
   "source": [
    "te = tokenizer.encode('cliente solicita mudança de endereço de rede')\n",
    "te"
   ]
  },
  {
   "cell_type": "code",
   "execution_count": 853,
   "metadata": {},
   "outputs": [
    {
     "data": {
      "text/plain": [
       "array([[4.7519319e-05, 1.5920235e-04, 2.6237156e-05, 1.0081213e-05,\n",
       "        3.9171265e-03, 3.0934051e-04, 2.9402845e-06, 4.5355582e-03,\n",
       "        3.0191022e-04, 2.1640473e-04, 6.1747385e-03, 2.4692665e-04,\n",
       "        5.6164612e-05, 4.6748036e-07, 1.3449844e-05, 1.9159758e-03,\n",
       "        6.8421294e-05, 1.8536674e-02, 1.5554529e-04, 1.3274527e-03,\n",
       "        6.2862855e-06, 2.3316521e-05, 3.2607843e-03, 1.2092111e-02,\n",
       "        6.7592895e-04, 2.9843597e-05, 3.7086695e-05, 1.0643498e-05,\n",
       "        4.2276090e-05, 1.8273140e-04, 2.1302553e-04, 6.2380049e-02,\n",
       "        3.8201246e-02, 3.4481415e-04, 7.6604506e-04, 7.1271580e-01,\n",
       "        2.8920525e-03, 6.1731222e-03, 1.0697947e-04, 7.7174109e-04,\n",
       "        4.3357811e-03, 2.2601767e-04, 5.4433573e-02, 3.3429583e-07,\n",
       "        9.8912627e-04, 1.6955077e-03, 1.2953946e-03, 8.7536337e-06,\n",
       "        9.4128784e-04, 1.3168379e-04, 2.0354408e-04, 2.6255017e-04,\n",
       "        3.0584158e-02, 1.6902994e-05, 1.0814445e-06, 2.2966355e-05,\n",
       "        7.2313000e-05, 6.2166396e-06, 1.8154728e-04, 1.7860622e-04,\n",
       "        6.7415945e-06, 1.3962256e-03, 1.1208076e-03, 8.7990647e-04,\n",
       "        9.3956851e-06, 1.9610948e-03, 1.3917191e-03, 4.4869301e-03,\n",
       "        2.9036498e-03, 3.3366920e-03, 6.4737676e-03, 3.8936993e-04,\n",
       "        1.1081735e-03]], dtype=float32)"
      ]
     },
     "execution_count": 853,
     "metadata": {},
     "output_type": "execute_result"
    }
   ],
   "source": [
    "Dcnn(np.array([te]), training=False).numpy()"
   ]
  }
 ],
 "metadata": {
  "interpreter": {
   "hash": "4398a71f044ae7c4cec7987df65a724231eaff753f776a5101155e07fb741822"
  },
  "kernelspec": {
   "display_name": "Python 3.10.4 ('env': venv)",
   "language": "python",
   "name": "python3"
  },
  "language_info": {
   "codemirror_mode": {
    "name": "ipython",
    "version": 3
   },
   "file_extension": ".py",
   "mimetype": "text/x-python",
   "name": "python",
   "nbconvert_exporter": "python",
   "pygments_lexer": "ipython3",
   "version": "3.10.4"
  },
  "orig_nbformat": 4
 },
 "nbformat": 4,
 "nbformat_minor": 2
}
