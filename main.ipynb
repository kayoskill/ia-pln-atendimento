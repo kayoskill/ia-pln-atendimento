{
 "cells": [
  {
   "cell_type": "code",
   "execution_count": 50,
   "metadata": {},
   "outputs": [],
   "source": [
    "import re\n",
    "import pandas as pd\n",
    "import seaborn as sns\n",
    "import spacy as sp\n",
    "import matplotlib.pyplot as plt\n",
    "from sklearn.model_selection import train_test_split\n",
    "import numpy as np\n",
    "from sklearn import preprocessing"
   ]
  },
  {
   "cell_type": "code",
   "execution_count": 51,
   "metadata": {},
   "outputs": [],
   "source": [
    "from tensorflow.keras import layers\n",
    "import tensorflow_datasets as tfds"
   ]
  },
  {
   "cell_type": "code",
   "execution_count": 52,
   "metadata": {},
   "outputs": [
    {
     "data": {
      "text/plain": [
       "'2.8.0'"
      ]
     },
     "execution_count": 52,
     "metadata": {},
     "output_type": "execute_result"
    }
   ],
   "source": [
    "import tensorflow as tf\n",
    "tf.__version__"
   ]
  },
  {
   "cell_type": "code",
   "execution_count": 53,
   "metadata": {},
   "outputs": [
    {
     "data": {
      "text/html": [
       "<div>\n",
       "<style scoped>\n",
       "    .dataframe tbody tr th:only-of-type {\n",
       "        vertical-align: middle;\n",
       "    }\n",
       "\n",
       "    .dataframe tbody tr th {\n",
       "        vertical-align: top;\n",
       "    }\n",
       "\n",
       "    .dataframe thead th {\n",
       "        text-align: right;\n",
       "    }\n",
       "</style>\n",
       "<table border=\"1\" class=\"dataframe\">\n",
       "  <thead>\n",
       "    <tr style=\"text-align: right;\">\n",
       "      <th></th>\n",
       "      <th>descricao_abertura</th>\n",
       "      <th>descricao</th>\n",
       "    </tr>\n",
       "  </thead>\n",
       "  <tbody>\n",
       "    <tr>\n",
       "      <th>0</th>\n",
       "      <td>Cliente solicitou a alteração de plano.</td>\n",
       "      <td>RENOVAÇÃO FIDELIDADE</td>\n",
       "    </tr>\n",
       "    <tr>\n",
       "      <th>1</th>\n",
       "      <td>CLIENTE SEM CONEXAO</td>\n",
       "      <td>2. SEM ACESSO - RESIDENCIAL</td>\n",
       "    </tr>\n",
       "    <tr>\n",
       "      <th>2</th>\n",
       "      <td>ENTREI EM CONTATO COM O(A) CLIENTE PARA SABER ...</td>\n",
       "      <td>2. SEM CONTATO COM O CLIENTE</td>\n",
       "    </tr>\n",
       "    <tr>\n",
       "      <th>3</th>\n",
       "      <td>Cliente informa ter efetuado o pagamento</td>\n",
       "      <td>1.2  AGENDAMENTO DA FATURA</td>\n",
       "    </tr>\n",
       "    <tr>\n",
       "      <th>4</th>\n",
       "      <td>SEM ACESSO- 21/01-MANHÃ.SEM COVID.</td>\n",
       "      <td>2. SEM ACESSO - RESIDENCIAL</td>\n",
       "    </tr>\n",
       "    <tr>\n",
       "      <th>...</th>\n",
       "      <td>...</td>\n",
       "      <td>...</td>\n",
       "    </tr>\n",
       "    <tr>\n",
       "      <th>353433</th>\n",
       "      <td>Adesão de comodato com fidelidade de 12 meses ...</td>\n",
       "      <td>3. INSTALAÇÃO FIBRA - RESIDENCIAL</td>\n",
       "    </tr>\n",
       "    <tr>\n",
       "      <th>353434</th>\n",
       "      <td>cliente vai cancelar pois o mesmo contratou co...</td>\n",
       "      <td>4. CANCELAMENTO</td>\n",
       "    </tr>\n",
       "    <tr>\n",
       "      <th>353435</th>\n",
       "      <td>VENDEDOR EXTERNO******* INSTALAR FTTH ONU COMO...</td>\n",
       "      <td>3. INSTALAÇÃO FIBRA - RESIDENCIAL</td>\n",
       "    </tr>\n",
       "    <tr>\n",
       "      <th>353436</th>\n",
       "      <td>VALOR TOTAL DOS DÉBITOS: 1.223,98. EQUIPAMENTO...</td>\n",
       "      <td>1.3 CARTA EXTRAJUDICIAL</td>\n",
       "    </tr>\n",
       "    <tr>\n",
       "      <th>353437</th>\n",
       "      <td>https://maps.app.goo.gl/7tr22mJAdRudDeSq8\\nAde...</td>\n",
       "      <td>3. INSTALAÇÃO FIBRA - RESIDENCIAL</td>\n",
       "    </tr>\n",
       "  </tbody>\n",
       "</table>\n",
       "<p>353438 rows × 2 columns</p>\n",
       "</div>"
      ],
      "text/plain": [
       "                                       descricao_abertura  \\\n",
       "0                 Cliente solicitou a alteração de plano.   \n",
       "1                                     CLIENTE SEM CONEXAO   \n",
       "2       ENTREI EM CONTATO COM O(A) CLIENTE PARA SABER ...   \n",
       "3                Cliente informa ter efetuado o pagamento   \n",
       "4                      SEM ACESSO- 21/01-MANHÃ.SEM COVID.   \n",
       "...                                                   ...   \n",
       "353433  Adesão de comodato com fidelidade de 12 meses ...   \n",
       "353434  cliente vai cancelar pois o mesmo contratou co...   \n",
       "353435  VENDEDOR EXTERNO******* INSTALAR FTTH ONU COMO...   \n",
       "353436  VALOR TOTAL DOS DÉBITOS: 1.223,98. EQUIPAMENTO...   \n",
       "353437  https://maps.app.goo.gl/7tr22mJAdRudDeSq8\\nAde...   \n",
       "\n",
       "                                descricao  \n",
       "0                    RENOVAÇÃO FIDELIDADE  \n",
       "1             2. SEM ACESSO - RESIDENCIAL  \n",
       "2            2. SEM CONTATO COM O CLIENTE  \n",
       "3              1.2  AGENDAMENTO DA FATURA  \n",
       "4             2. SEM ACESSO - RESIDENCIAL  \n",
       "...                                   ...  \n",
       "353433  3. INSTALAÇÃO FIBRA - RESIDENCIAL  \n",
       "353434                    4. CANCELAMENTO  \n",
       "353435  3. INSTALAÇÃO FIBRA - RESIDENCIAL  \n",
       "353436            1.3 CARTA EXTRAJUDICIAL  \n",
       "353437  3. INSTALAÇÃO FIBRA - RESIDENCIAL  \n",
       "\n",
       "[353438 rows x 2 columns]"
      ]
     },
     "execution_count": 53,
     "metadata": {},
     "output_type": "execute_result"
    }
   ],
   "source": [
    "dataframe = pd.read_csv('base/baseia.csv', sep=';', header=0)\n",
    "dataframe"
   ]
  },
  {
   "cell_type": "code",
   "execution_count": 54,
   "metadata": {},
   "outputs": [
    {
     "data": {
      "text/plain": [
       "array(['RENOVAÇÃO FIDELIDADE', '2. SEM ACESSO - RESIDENCIAL',\n",
       "       '2. SEM CONTATO COM O CLIENTE', '1.2  AGENDAMENTO DA FATURA',\n",
       "       '1.1 COBRANÇA', '1.3 RETIRADA COMPULSORIA',\n",
       "       '1.2 DÚVIDAS/INFORMAÇÕES GERAIS (FINANCEIRO)',\n",
       "       '1.2 ENVIO DE COMPROVANTE', '4. CANCELAMENTO',\n",
       "       '1.2 RETIRADA DE BOLETO (PRESENCIAL)', '1.2 ENVIO DE BOLETO',\n",
       "       'MIGRAÇÃO DE PLANO', '1.2 RECEBIMENTO DE MENSALIDADE (PRESENCIAL)',\n",
       "       '2. TROCA DE SENHA WIFI', '1.3 NEGATIVAÇÃO', 'UPGRADE',\n",
       "       '1.3 EXCLUSÃO NEGATIVAÇÃO', '2. LOS - RESIDENCIAL',\n",
       "       '2. INSTALAÇÃO DE ROTEADOR ADICIONAL EM COMODATO',\n",
       "       '2. LENTIDÃO/OSCILAÇÕES NA INTERNET - RESIDENCIAL', '1.1  ACORDO',\n",
       "       '3. INSTALAÇÃO FIBRA - RESIDENCIAL', '1.2 DESBLOQUEIO',\n",
       "       '2. DÚVIDAS/INFORMAÇÕES GERAIS', '3. PÓS-VENDA', 'DOWNGRADE',\n",
       "       '4. SOLICITAÇÃO DE CANCELAMENTO',\n",
       "       '2. RETIRADA DE ROTEADOR ADICIONAL EM COMODATO',\n",
       "       'MUDANÇA DE ENDEREÇO - RESIDENCIAL', 'DESPROVISIONAMENTO',\n",
       "       'MIGRAÇÃO DE TECNOLOGIA', '1.3 CARTA EXTRAJUDICIAL',\n",
       "       'RETORNAR CONTATO SUPORTE', 'RETORNAR CONTATO UPGRADE',\n",
       "       '1.2 MUDANÇA DE TITULARIDADE', 'RETORNAR CONTATO FINANCEIRO',\n",
       "       'ATENDIMENTO AO TÉCNICO', 'BLOQUEIO/DESBLOQUEIO 4G',\n",
       "       '6. PLATAFORMAS DE ENTRETENIMENTO', '1.2 BLOQUEIO',\n",
       "       '2. LENTIDÃO/OSCILAÇÕES  NA INTERNET - EMPRESARIAL',\n",
       "       '4. REVERSÃO DE CANCELAMENTO', '1.2 ALTERAÇÃO DO VENCIMENTO',\n",
       "       '2. PROBLEMA NO WIFI - RESIDENCIAL', '2. SINAL ALTO - RESIDENCIAL',\n",
       "       '8. INFRAESTRUTURA', '2. TROCA DE EQUIPAMENTO - RESIDENCIAL',\n",
       "       '1.3 PROMOÇÃO INDIQUE&GANHE', '2. TESTE DE VELOCIDADE',\n",
       "       '2. CONFERÊNCIA DE DOCUMENTAÇÃO', 'RETORNAR CONTATO COMERCIAL ',\n",
       "       '6. BLOQUEIO/DESBLOQUEIO VOIP', '1.2 ACRÉSCIMO NA FATURA',\n",
       "       '1.2 ENTREGA DE EQUIPAMENTO NA LOJA', 'ATIVAÇÃO DO SERVIÇO',\n",
       "       '1.2 SUSPENSÃO TEMPORARIA', '1.2 DESCONTO NA FATURA',\n",
       "       '1.2 REATIVAÇÃO', 'NOC', '2. MUDANÇA  DE LOCAL DO PONTO',\n",
       "       '2. IPTV E TVBOX', '2. ROTEADOR RESETADO - RESIDENCIAL',\n",
       "       '2. 5.8(RÁDIO)', '1.2 GERAR FATURA',\n",
       "       '1.3 ASSESSORIA JURÍDICA ( EDMO )', '2. HOME SERVICE SEM TAXA',\n",
       "       '3. ADESÃO 5.8GHZ - RESIDENCIAL', 'INSATISFAÇÃO',\n",
       "       '2. SEM ACESSO - EMPRESARIAL', 'SAC', '2. ALOCAÇÃO DE IP FIXO',\n",
       "       '1.2 PAGAMENTO DE FATURA INCORRETA', '2. HABILITAR ACESSO REMOTO',\n",
       "       '6. SUPORTE TÉCNICO TI5 MÓVEL', 'CANCELAMENTO 4G',\n",
       "       '8. VIABILIDADE ', '2. SUPORTE AO APP/CENTRAL',\n",
       "       'RETIRADA DE CABO/CONECTOR NA LOJA', '2. SUPORTE TECNICO',\n",
       "       '3. DESISTÊNCIA DA INSTALAÇÃO', '1.2 LIQUIDAR FATURA',\n",
       "       '2. SUPORTE CORPORATIVO', '7. PREVENTIVO SUPORTE TÉCNICO',\n",
       "       '2. LOS - EMPRESARIAL', '1.2 PASSAR CARTÃO',\n",
       "       '7. AUDITORIA TÉCNICA', '2. REDIRECIONAMENTO DE PORTAS',\n",
       "       '1. FINANCEIRO', '5. ANATEL', '1.3 EMAIL EXTRAJUDICIAL',\n",
       "       '1.2 ATUALIZAÇÃO DE DADOS', '1.2 MUDANÇA DE ENDEREÇO E MIGRAÇÃO',\n",
       "       '2. SUPORTE CORPORATIVO REMOTO', '7. VISTORIA TÉCNICA',\n",
       "       '1.2 DOCUMENTAÇÃO INCOMPLETA', '2. SUPORTE INTERNO',\n",
       "       '2. ROTEADOR RESETADO - EMPRESARIAL', '5. PROCON',\n",
       "       'MUDANÇA DE ENDEREÇO - EMPRESARIAL',\n",
       "       '1.1  RENEGOCIAÇÃO ACORDO PAGO', '1.2 EXCLUSÃO DE FATURA',\n",
       "       'PÓS VENDA TI5 MOVEL', '1.3 RETIRADA DE EQUIPAMENTOS',\n",
       "       '7. SUPORTE AO TÉCNICO', '8. LIBERAÇÃO DE PORTA NA CTO',\n",
       "       'MRE - ESTOQUE', '2. FIXAR EQUIPAMENTO ',\n",
       "       '3. ATIVAÇÃO - RESIDENCIAL', '6. ATIVAÇÃO VOIP', '1.2 REEMBOLSO',\n",
       "       '3. INSTALAÇÃO FIBRA - EMPRESARIAL',\n",
       "       '1.2 MUDANÇA DE TITULARIDADE E DE ENDEREÇO',\n",
       "       '6. CANCELAMENTO VOIP', '6. SERVIÇOS CONVERGENTES',\n",
       "       '3. ATIVAÇÃO - EMPRESARIAL', '8. MANUTENÇÃO INTERNA',\n",
       "       '2. TROCA DE EQUIPAMENTO - EMPRESARIAL', '5. OUVIDORIA',\n",
       "       'QUALIDADE', '7. TAXA DE SERVIÇO EXTERNO ',\n",
       "       '2. HOME SERVICE COM TAXA', '3. COMERCIAL',\n",
       "       '1.2 ENVIO DE NOTA FISCAL', '2. SINAL ALTO - EMPRESARIAL',\n",
       "       '7. VISTORIA CONDOMINIAL', '2. PROBLEMA NO WIFI - EMPRESARIAL',\n",
       "       '3. ADESÃO 5.8GHZ - EMPRESARIAL', '5. RECLAME AQUI',\n",
       "       '1.1 ACORDO PAGO', 'RETORNAR CONTATO SERVIÇOS CONVERGENTES',\n",
       "       'SOLICITAÇÃO DE PRODUTOS', 'RETORNAR CONTATO ACORDO',\n",
       "       '1.3 ANÁLISE PARA NEGATIVAÇÃO ', '1.3 RESPOSTA DE E-MAIL ',\n",
       "       'RETORNAR CONTATO COMERCIAL B2B', 'UPGRADE PRESENCIAL ',\n",
       "       'SOCIAL MIDIA', '(PROVISÓRIO) NEGATIVAÇÃO INFORTEK'], dtype=object)"
      ]
     },
     "execution_count": 54,
     "metadata": {},
     "output_type": "execute_result"
    }
   ],
   "source": [
    "dataframe.descricao.unique()"
   ]
  },
  {
   "cell_type": "code",
   "execution_count": 55,
   "metadata": {},
   "outputs": [
    {
     "data": {
      "text/plain": [
       "array(['RENOVAÇÃO FIDELIDADE', '2. SEM ACESSO - RESIDENCIAL',\n",
       "       '2. SEM CONTATO COM O CLIENTE', '1.2  AGENDAMENTO DA FATURA',\n",
       "       '1.1 COBRANÇA', '1.3 RETIRADA COMPULSORIA',\n",
       "       '1.2 DÚVIDAS/INFORMAÇÕES GERAIS (FINANCEIRO)',\n",
       "       '1.2 ENVIO DE COMPROVANTE', '4. CANCELAMENTO',\n",
       "       '1.2 RETIRADA DE BOLETO (PRESENCIAL)', '1.2 ENVIO DE BOLETO',\n",
       "       'MIGRAÇÃO DE PLANO', '1.2 RECEBIMENTO DE MENSALIDADE (PRESENCIAL)',\n",
       "       '2. TROCA DE SENHA WIFI', '1.3 NEGATIVAÇÃO', 'UPGRADE',\n",
       "       '1.3 EXCLUSÃO NEGATIVAÇÃO', '2. LOS - RESIDENCIAL',\n",
       "       '2. INSTALAÇÃO DE ROTEADOR ADICIONAL EM COMODATO',\n",
       "       '2. LENTIDÃO/OSCILAÇÕES NA INTERNET - RESIDENCIAL', '1.1  ACORDO',\n",
       "       '3. INSTALAÇÃO FIBRA - RESIDENCIAL', '1.2 DESBLOQUEIO',\n",
       "       '2. DÚVIDAS/INFORMAÇÕES GERAIS', '3. PÓS-VENDA', 'DOWNGRADE',\n",
       "       '4. SOLICITAÇÃO DE CANCELAMENTO',\n",
       "       'MUDANÇA DE ENDEREÇO - RESIDENCIAL', 'DESPROVISIONAMENTO',\n",
       "       'MIGRAÇÃO DE TECNOLOGIA', '1.3 CARTA EXTRAJUDICIAL',\n",
       "       'RETORNAR CONTATO SUPORTE', 'RETORNAR CONTATO UPGRADE',\n",
       "       '1.2 MUDANÇA DE TITULARIDADE', 'RETORNAR CONTATO FINANCEIRO',\n",
       "       'ATENDIMENTO AO TÉCNICO', '6. PLATAFORMAS DE ENTRETENIMENTO',\n",
       "       '1.2 BLOQUEIO', '4. REVERSÃO DE CANCELAMENTO',\n",
       "       '1.2 ALTERAÇÃO DO VENCIMENTO', '2. PROBLEMA NO WIFI - RESIDENCIAL',\n",
       "       '2. SINAL ALTO - RESIDENCIAL', '8. INFRAESTRUTURA',\n",
       "       '2. TROCA DE EQUIPAMENTO - RESIDENCIAL', '2. TESTE DE VELOCIDADE',\n",
       "       '2. CONFERÊNCIA DE DOCUMENTAÇÃO', 'RETORNAR CONTATO COMERCIAL ',\n",
       "       '1.2 ENTREGA DE EQUIPAMENTO NA LOJA', '1.2 SUSPENSÃO TEMPORARIA',\n",
       "       '1.2 DESCONTO NA FATURA', '1.2 REATIVAÇÃO',\n",
       "       '2. MUDANÇA  DE LOCAL DO PONTO',\n",
       "       '2. ROTEADOR RESETADO - RESIDENCIAL', '2. 5.8(RÁDIO)',\n",
       "       '1.2 GERAR FATURA', '1.3 ASSESSORIA JURÍDICA ( EDMO )',\n",
       "       '2. HOME SERVICE SEM TAXA', 'SAC', '2. SUPORTE AO APP/CENTRAL',\n",
       "       '2. SUPORTE TECNICO', '3. DESISTÊNCIA DA INSTALAÇÃO',\n",
       "       '1.2 LIQUIDAR FATURA', '7. PREVENTIVO SUPORTE TÉCNICO',\n",
       "       '1. FINANCEIRO', '1.2 ATUALIZAÇÃO DE DADOS',\n",
       "       '1.2 MUDANÇA DE ENDEREÇO E MIGRAÇÃO', '7. VISTORIA TÉCNICA',\n",
       "       '2. SUPORTE INTERNO', '1.1  RENEGOCIAÇÃO ACORDO PAGO',\n",
       "       '1.2 EXCLUSÃO DE FATURA', 'MRE - ESTOQUE', '8. MANUTENÇÃO INTERNA',\n",
       "       '7. TAXA DE SERVIÇO EXTERNO '], dtype=object)"
      ]
     },
     "execution_count": 55,
     "metadata": {},
     "output_type": "execute_result"
    }
   ],
   "source": [
    "tipo = dataframe.descricao.value_counts() > 300\n",
    "dataframe = dataframe[dataframe['descricao'].isin(tipo[tipo == True].index)]\n",
    "dataframe.descricao.unique()"
   ]
  },
  {
   "cell_type": "code",
   "execution_count": 56,
   "metadata": {},
   "outputs": [
    {
     "name": "stderr",
     "output_type": "stream",
     "text": [
      "C:\\Users\\usuario\\AppData\\Local\\Temp\\ipykernel_18392\\488866001.py:4: FutureWarning: The frame.append method is deprecated and will be removed from pandas in a future version. Use pandas.concat instead.\n",
      "  novodataframe = novodataframe.append(df)\n",
      "C:\\Users\\usuario\\AppData\\Local\\Temp\\ipykernel_18392\\488866001.py:4: FutureWarning: The frame.append method is deprecated and will be removed from pandas in a future version. Use pandas.concat instead.\n",
      "  novodataframe = novodataframe.append(df)\n",
      "C:\\Users\\usuario\\AppData\\Local\\Temp\\ipykernel_18392\\488866001.py:4: FutureWarning: The frame.append method is deprecated and will be removed from pandas in a future version. Use pandas.concat instead.\n",
      "  novodataframe = novodataframe.append(df)\n",
      "C:\\Users\\usuario\\AppData\\Local\\Temp\\ipykernel_18392\\488866001.py:4: FutureWarning: The frame.append method is deprecated and will be removed from pandas in a future version. Use pandas.concat instead.\n",
      "  novodataframe = novodataframe.append(df)\n",
      "C:\\Users\\usuario\\AppData\\Local\\Temp\\ipykernel_18392\\488866001.py:4: FutureWarning: The frame.append method is deprecated and will be removed from pandas in a future version. Use pandas.concat instead.\n",
      "  novodataframe = novodataframe.append(df)\n",
      "C:\\Users\\usuario\\AppData\\Local\\Temp\\ipykernel_18392\\488866001.py:4: FutureWarning: The frame.append method is deprecated and will be removed from pandas in a future version. Use pandas.concat instead.\n",
      "  novodataframe = novodataframe.append(df)\n",
      "C:\\Users\\usuario\\AppData\\Local\\Temp\\ipykernel_18392\\488866001.py:4: FutureWarning: The frame.append method is deprecated and will be removed from pandas in a future version. Use pandas.concat instead.\n",
      "  novodataframe = novodataframe.append(df)\n",
      "C:\\Users\\usuario\\AppData\\Local\\Temp\\ipykernel_18392\\488866001.py:4: FutureWarning: The frame.append method is deprecated and will be removed from pandas in a future version. Use pandas.concat instead.\n",
      "  novodataframe = novodataframe.append(df)\n",
      "C:\\Users\\usuario\\AppData\\Local\\Temp\\ipykernel_18392\\488866001.py:4: FutureWarning: The frame.append method is deprecated and will be removed from pandas in a future version. Use pandas.concat instead.\n",
      "  novodataframe = novodataframe.append(df)\n",
      "C:\\Users\\usuario\\AppData\\Local\\Temp\\ipykernel_18392\\488866001.py:4: FutureWarning: The frame.append method is deprecated and will be removed from pandas in a future version. Use pandas.concat instead.\n",
      "  novodataframe = novodataframe.append(df)\n",
      "C:\\Users\\usuario\\AppData\\Local\\Temp\\ipykernel_18392\\488866001.py:4: FutureWarning: The frame.append method is deprecated and will be removed from pandas in a future version. Use pandas.concat instead.\n",
      "  novodataframe = novodataframe.append(df)\n",
      "C:\\Users\\usuario\\AppData\\Local\\Temp\\ipykernel_18392\\488866001.py:4: FutureWarning: The frame.append method is deprecated and will be removed from pandas in a future version. Use pandas.concat instead.\n",
      "  novodataframe = novodataframe.append(df)\n",
      "C:\\Users\\usuario\\AppData\\Local\\Temp\\ipykernel_18392\\488866001.py:4: FutureWarning: The frame.append method is deprecated and will be removed from pandas in a future version. Use pandas.concat instead.\n",
      "  novodataframe = novodataframe.append(df)\n",
      "C:\\Users\\usuario\\AppData\\Local\\Temp\\ipykernel_18392\\488866001.py:4: FutureWarning: The frame.append method is deprecated and will be removed from pandas in a future version. Use pandas.concat instead.\n",
      "  novodataframe = novodataframe.append(df)\n",
      "C:\\Users\\usuario\\AppData\\Local\\Temp\\ipykernel_18392\\488866001.py:4: FutureWarning: The frame.append method is deprecated and will be removed from pandas in a future version. Use pandas.concat instead.\n",
      "  novodataframe = novodataframe.append(df)\n",
      "C:\\Users\\usuario\\AppData\\Local\\Temp\\ipykernel_18392\\488866001.py:4: FutureWarning: The frame.append method is deprecated and will be removed from pandas in a future version. Use pandas.concat instead.\n",
      "  novodataframe = novodataframe.append(df)\n",
      "C:\\Users\\usuario\\AppData\\Local\\Temp\\ipykernel_18392\\488866001.py:4: FutureWarning: The frame.append method is deprecated and will be removed from pandas in a future version. Use pandas.concat instead.\n",
      "  novodataframe = novodataframe.append(df)\n",
      "C:\\Users\\usuario\\AppData\\Local\\Temp\\ipykernel_18392\\488866001.py:4: FutureWarning: The frame.append method is deprecated and will be removed from pandas in a future version. Use pandas.concat instead.\n",
      "  novodataframe = novodataframe.append(df)\n",
      "C:\\Users\\usuario\\AppData\\Local\\Temp\\ipykernel_18392\\488866001.py:4: FutureWarning: The frame.append method is deprecated and will be removed from pandas in a future version. Use pandas.concat instead.\n",
      "  novodataframe = novodataframe.append(df)\n",
      "C:\\Users\\usuario\\AppData\\Local\\Temp\\ipykernel_18392\\488866001.py:4: FutureWarning: The frame.append method is deprecated and will be removed from pandas in a future version. Use pandas.concat instead.\n",
      "  novodataframe = novodataframe.append(df)\n",
      "C:\\Users\\usuario\\AppData\\Local\\Temp\\ipykernel_18392\\488866001.py:4: FutureWarning: The frame.append method is deprecated and will be removed from pandas in a future version. Use pandas.concat instead.\n",
      "  novodataframe = novodataframe.append(df)\n",
      "C:\\Users\\usuario\\AppData\\Local\\Temp\\ipykernel_18392\\488866001.py:4: FutureWarning: The frame.append method is deprecated and will be removed from pandas in a future version. Use pandas.concat instead.\n",
      "  novodataframe = novodataframe.append(df)\n",
      "C:\\Users\\usuario\\AppData\\Local\\Temp\\ipykernel_18392\\488866001.py:4: FutureWarning: The frame.append method is deprecated and will be removed from pandas in a future version. Use pandas.concat instead.\n",
      "  novodataframe = novodataframe.append(df)\n",
      "C:\\Users\\usuario\\AppData\\Local\\Temp\\ipykernel_18392\\488866001.py:4: FutureWarning: The frame.append method is deprecated and will be removed from pandas in a future version. Use pandas.concat instead.\n",
      "  novodataframe = novodataframe.append(df)\n",
      "C:\\Users\\usuario\\AppData\\Local\\Temp\\ipykernel_18392\\488866001.py:4: FutureWarning: The frame.append method is deprecated and will be removed from pandas in a future version. Use pandas.concat instead.\n",
      "  novodataframe = novodataframe.append(df)\n",
      "C:\\Users\\usuario\\AppData\\Local\\Temp\\ipykernel_18392\\488866001.py:4: FutureWarning: The frame.append method is deprecated and will be removed from pandas in a future version. Use pandas.concat instead.\n",
      "  novodataframe = novodataframe.append(df)\n",
      "C:\\Users\\usuario\\AppData\\Local\\Temp\\ipykernel_18392\\488866001.py:4: FutureWarning: The frame.append method is deprecated and will be removed from pandas in a future version. Use pandas.concat instead.\n",
      "  novodataframe = novodataframe.append(df)\n",
      "C:\\Users\\usuario\\AppData\\Local\\Temp\\ipykernel_18392\\488866001.py:4: FutureWarning: The frame.append method is deprecated and will be removed from pandas in a future version. Use pandas.concat instead.\n",
      "  novodataframe = novodataframe.append(df)\n",
      "C:\\Users\\usuario\\AppData\\Local\\Temp\\ipykernel_18392\\488866001.py:4: FutureWarning: The frame.append method is deprecated and will be removed from pandas in a future version. Use pandas.concat instead.\n",
      "  novodataframe = novodataframe.append(df)\n",
      "C:\\Users\\usuario\\AppData\\Local\\Temp\\ipykernel_18392\\488866001.py:4: FutureWarning: The frame.append method is deprecated and will be removed from pandas in a future version. Use pandas.concat instead.\n",
      "  novodataframe = novodataframe.append(df)\n",
      "C:\\Users\\usuario\\AppData\\Local\\Temp\\ipykernel_18392\\488866001.py:4: FutureWarning: The frame.append method is deprecated and will be removed from pandas in a future version. Use pandas.concat instead.\n",
      "  novodataframe = novodataframe.append(df)\n",
      "C:\\Users\\usuario\\AppData\\Local\\Temp\\ipykernel_18392\\488866001.py:4: FutureWarning: The frame.append method is deprecated and will be removed from pandas in a future version. Use pandas.concat instead.\n",
      "  novodataframe = novodataframe.append(df)\n",
      "C:\\Users\\usuario\\AppData\\Local\\Temp\\ipykernel_18392\\488866001.py:4: FutureWarning: The frame.append method is deprecated and will be removed from pandas in a future version. Use pandas.concat instead.\n",
      "  novodataframe = novodataframe.append(df)\n",
      "C:\\Users\\usuario\\AppData\\Local\\Temp\\ipykernel_18392\\488866001.py:4: FutureWarning: The frame.append method is deprecated and will be removed from pandas in a future version. Use pandas.concat instead.\n",
      "  novodataframe = novodataframe.append(df)\n",
      "C:\\Users\\usuario\\AppData\\Local\\Temp\\ipykernel_18392\\488866001.py:4: FutureWarning: The frame.append method is deprecated and will be removed from pandas in a future version. Use pandas.concat instead.\n",
      "  novodataframe = novodataframe.append(df)\n",
      "C:\\Users\\usuario\\AppData\\Local\\Temp\\ipykernel_18392\\488866001.py:4: FutureWarning: The frame.append method is deprecated and will be removed from pandas in a future version. Use pandas.concat instead.\n",
      "  novodataframe = novodataframe.append(df)\n",
      "C:\\Users\\usuario\\AppData\\Local\\Temp\\ipykernel_18392\\488866001.py:4: FutureWarning: The frame.append method is deprecated and will be removed from pandas in a future version. Use pandas.concat instead.\n",
      "  novodataframe = novodataframe.append(df)\n",
      "C:\\Users\\usuario\\AppData\\Local\\Temp\\ipykernel_18392\\488866001.py:4: FutureWarning: The frame.append method is deprecated and will be removed from pandas in a future version. Use pandas.concat instead.\n",
      "  novodataframe = novodataframe.append(df)\n",
      "C:\\Users\\usuario\\AppData\\Local\\Temp\\ipykernel_18392\\488866001.py:4: FutureWarning: The frame.append method is deprecated and will be removed from pandas in a future version. Use pandas.concat instead.\n",
      "  novodataframe = novodataframe.append(df)\n",
      "C:\\Users\\usuario\\AppData\\Local\\Temp\\ipykernel_18392\\488866001.py:4: FutureWarning: The frame.append method is deprecated and will be removed from pandas in a future version. Use pandas.concat instead.\n",
      "  novodataframe = novodataframe.append(df)\n",
      "C:\\Users\\usuario\\AppData\\Local\\Temp\\ipykernel_18392\\488866001.py:4: FutureWarning: The frame.append method is deprecated and will be removed from pandas in a future version. Use pandas.concat instead.\n",
      "  novodataframe = novodataframe.append(df)\n",
      "C:\\Users\\usuario\\AppData\\Local\\Temp\\ipykernel_18392\\488866001.py:4: FutureWarning: The frame.append method is deprecated and will be removed from pandas in a future version. Use pandas.concat instead.\n",
      "  novodataframe = novodataframe.append(df)\n",
      "C:\\Users\\usuario\\AppData\\Local\\Temp\\ipykernel_18392\\488866001.py:4: FutureWarning: The frame.append method is deprecated and will be removed from pandas in a future version. Use pandas.concat instead.\n",
      "  novodataframe = novodataframe.append(df)\n",
      "C:\\Users\\usuario\\AppData\\Local\\Temp\\ipykernel_18392\\488866001.py:4: FutureWarning: The frame.append method is deprecated and will be removed from pandas in a future version. Use pandas.concat instead.\n",
      "  novodataframe = novodataframe.append(df)\n",
      "C:\\Users\\usuario\\AppData\\Local\\Temp\\ipykernel_18392\\488866001.py:4: FutureWarning: The frame.append method is deprecated and will be removed from pandas in a future version. Use pandas.concat instead.\n",
      "  novodataframe = novodataframe.append(df)\n",
      "C:\\Users\\usuario\\AppData\\Local\\Temp\\ipykernel_18392\\488866001.py:4: FutureWarning: The frame.append method is deprecated and will be removed from pandas in a future version. Use pandas.concat instead.\n",
      "  novodataframe = novodataframe.append(df)\n",
      "C:\\Users\\usuario\\AppData\\Local\\Temp\\ipykernel_18392\\488866001.py:4: FutureWarning: The frame.append method is deprecated and will be removed from pandas in a future version. Use pandas.concat instead.\n",
      "  novodataframe = novodataframe.append(df)\n",
      "C:\\Users\\usuario\\AppData\\Local\\Temp\\ipykernel_18392\\488866001.py:4: FutureWarning: The frame.append method is deprecated and will be removed from pandas in a future version. Use pandas.concat instead.\n",
      "  novodataframe = novodataframe.append(df)\n",
      "C:\\Users\\usuario\\AppData\\Local\\Temp\\ipykernel_18392\\488866001.py:4: FutureWarning: The frame.append method is deprecated and will be removed from pandas in a future version. Use pandas.concat instead.\n",
      "  novodataframe = novodataframe.append(df)\n",
      "C:\\Users\\usuario\\AppData\\Local\\Temp\\ipykernel_18392\\488866001.py:4: FutureWarning: The frame.append method is deprecated and will be removed from pandas in a future version. Use pandas.concat instead.\n",
      "  novodataframe = novodataframe.append(df)\n",
      "C:\\Users\\usuario\\AppData\\Local\\Temp\\ipykernel_18392\\488866001.py:4: FutureWarning: The frame.append method is deprecated and will be removed from pandas in a future version. Use pandas.concat instead.\n",
      "  novodataframe = novodataframe.append(df)\n",
      "C:\\Users\\usuario\\AppData\\Local\\Temp\\ipykernel_18392\\488866001.py:4: FutureWarning: The frame.append method is deprecated and will be removed from pandas in a future version. Use pandas.concat instead.\n",
      "  novodataframe = novodataframe.append(df)\n",
      "C:\\Users\\usuario\\AppData\\Local\\Temp\\ipykernel_18392\\488866001.py:4: FutureWarning: The frame.append method is deprecated and will be removed from pandas in a future version. Use pandas.concat instead.\n",
      "  novodataframe = novodataframe.append(df)\n",
      "C:\\Users\\usuario\\AppData\\Local\\Temp\\ipykernel_18392\\488866001.py:4: FutureWarning: The frame.append method is deprecated and will be removed from pandas in a future version. Use pandas.concat instead.\n",
      "  novodataframe = novodataframe.append(df)\n",
      "C:\\Users\\usuario\\AppData\\Local\\Temp\\ipykernel_18392\\488866001.py:4: FutureWarning: The frame.append method is deprecated and will be removed from pandas in a future version. Use pandas.concat instead.\n",
      "  novodataframe = novodataframe.append(df)\n",
      "C:\\Users\\usuario\\AppData\\Local\\Temp\\ipykernel_18392\\488866001.py:4: FutureWarning: The frame.append method is deprecated and will be removed from pandas in a future version. Use pandas.concat instead.\n",
      "  novodataframe = novodataframe.append(df)\n",
      "C:\\Users\\usuario\\AppData\\Local\\Temp\\ipykernel_18392\\488866001.py:4: FutureWarning: The frame.append method is deprecated and will be removed from pandas in a future version. Use pandas.concat instead.\n",
      "  novodataframe = novodataframe.append(df)\n",
      "C:\\Users\\usuario\\AppData\\Local\\Temp\\ipykernel_18392\\488866001.py:4: FutureWarning: The frame.append method is deprecated and will be removed from pandas in a future version. Use pandas.concat instead.\n",
      "  novodataframe = novodataframe.append(df)\n",
      "C:\\Users\\usuario\\AppData\\Local\\Temp\\ipykernel_18392\\488866001.py:4: FutureWarning: The frame.append method is deprecated and will be removed from pandas in a future version. Use pandas.concat instead.\n",
      "  novodataframe = novodataframe.append(df)\n",
      "C:\\Users\\usuario\\AppData\\Local\\Temp\\ipykernel_18392\\488866001.py:4: FutureWarning: The frame.append method is deprecated and will be removed from pandas in a future version. Use pandas.concat instead.\n",
      "  novodataframe = novodataframe.append(df)\n",
      "C:\\Users\\usuario\\AppData\\Local\\Temp\\ipykernel_18392\\488866001.py:4: FutureWarning: The frame.append method is deprecated and will be removed from pandas in a future version. Use pandas.concat instead.\n",
      "  novodataframe = novodataframe.append(df)\n",
      "C:\\Users\\usuario\\AppData\\Local\\Temp\\ipykernel_18392\\488866001.py:4: FutureWarning: The frame.append method is deprecated and will be removed from pandas in a future version. Use pandas.concat instead.\n",
      "  novodataframe = novodataframe.append(df)\n",
      "C:\\Users\\usuario\\AppData\\Local\\Temp\\ipykernel_18392\\488866001.py:4: FutureWarning: The frame.append method is deprecated and will be removed from pandas in a future version. Use pandas.concat instead.\n",
      "  novodataframe = novodataframe.append(df)\n",
      "C:\\Users\\usuario\\AppData\\Local\\Temp\\ipykernel_18392\\488866001.py:4: FutureWarning: The frame.append method is deprecated and will be removed from pandas in a future version. Use pandas.concat instead.\n",
      "  novodataframe = novodataframe.append(df)\n",
      "C:\\Users\\usuario\\AppData\\Local\\Temp\\ipykernel_18392\\488866001.py:4: FutureWarning: The frame.append method is deprecated and will be removed from pandas in a future version. Use pandas.concat instead.\n",
      "  novodataframe = novodataframe.append(df)\n",
      "C:\\Users\\usuario\\AppData\\Local\\Temp\\ipykernel_18392\\488866001.py:4: FutureWarning: The frame.append method is deprecated and will be removed from pandas in a future version. Use pandas.concat instead.\n",
      "  novodataframe = novodataframe.append(df)\n",
      "C:\\Users\\usuario\\AppData\\Local\\Temp\\ipykernel_18392\\488866001.py:4: FutureWarning: The frame.append method is deprecated and will be removed from pandas in a future version. Use pandas.concat instead.\n",
      "  novodataframe = novodataframe.append(df)\n",
      "C:\\Users\\usuario\\AppData\\Local\\Temp\\ipykernel_18392\\488866001.py:4: FutureWarning: The frame.append method is deprecated and will be removed from pandas in a future version. Use pandas.concat instead.\n",
      "  novodataframe = novodataframe.append(df)\n",
      "C:\\Users\\usuario\\AppData\\Local\\Temp\\ipykernel_18392\\488866001.py:4: FutureWarning: The frame.append method is deprecated and will be removed from pandas in a future version. Use pandas.concat instead.\n",
      "  novodataframe = novodataframe.append(df)\n",
      "C:\\Users\\usuario\\AppData\\Local\\Temp\\ipykernel_18392\\488866001.py:4: FutureWarning: The frame.append method is deprecated and will be removed from pandas in a future version. Use pandas.concat instead.\n",
      "  novodataframe = novodataframe.append(df)\n",
      "C:\\Users\\usuario\\AppData\\Local\\Temp\\ipykernel_18392\\488866001.py:4: FutureWarning: The frame.append method is deprecated and will be removed from pandas in a future version. Use pandas.concat instead.\n",
      "  novodataframe = novodataframe.append(df)\n",
      "C:\\Users\\usuario\\AppData\\Local\\Temp\\ipykernel_18392\\488866001.py:4: FutureWarning: The frame.append method is deprecated and will be removed from pandas in a future version. Use pandas.concat instead.\n",
      "  novodataframe = novodataframe.append(df)\n",
      "C:\\Users\\usuario\\AppData\\Local\\Temp\\ipykernel_18392\\488866001.py:4: FutureWarning: The frame.append method is deprecated and will be removed from pandas in a future version. Use pandas.concat instead.\n",
      "  novodataframe = novodataframe.append(df)\n"
     ]
    }
   ],
   "source": [
    "novodataframe = pd.DataFrame(columns=['descricao_abertura', 'descricao'])\n",
    "for descricao in dataframe.descricao.unique():\n",
    "        df = dataframe.query('descricao == \"{}\"'.format(descricao)).head(300)\n",
    "        novodataframe = novodataframe.append(df)\n",
    "listaDescricao = list(novodataframe.descricao.unique())\n",
    "\n",
    "# for i in range(0, (len(listaDescricao))):\n",
    "#     novodataframe['descricao'][novodataframe['descricao'] == listaDescricao[i]] = i\n",
    "# novodataframe\n"
   ]
  },
  {
   "cell_type": "code",
   "execution_count": 57,
   "metadata": {},
   "outputs": [
    {
     "name": "stderr",
     "output_type": "stream",
     "text": [
      "c:\\Users\\usuario\\Documents\\Python\\ia-pln-atendimento\\env\\lib\\site-packages\\seaborn\\_decorators.py:36: FutureWarning: Pass the following variable as a keyword arg: x. From version 0.12, the only valid positional argument will be `data`, and passing other arguments without an explicit keyword will result in an error or misinterpretation.\n",
      "  warnings.warn(\n"
     ]
    },
    {
     "data": {
      "image/png": "[encoded data removed]",
      "text/plain": [
       "<Figure size 432x288 with 1 Axes>"
      ]
     },
     "metadata": {
      "needs_background": "light"
     },
     "output_type": "display_data"
    }
   ],
   "source": [
    "sns.countplot(novodataframe.descricao);"
   ]
  },
  {
   "cell_type": "code",
   "execution_count": 58,
   "metadata": {},
   "outputs": [
    {
     "data": {
      "text/plain": [
       "numpy.ndarray"
      ]
     },
     "execution_count": 58,
     "metadata": {},
     "output_type": "execute_result"
    }
   ],
   "source": [
    "X = novodataframe.iloc[:, 0].values\n",
    "type(X)"
   ]
  },
  {
   "cell_type": "code",
   "execution_count": 59,
   "metadata": {},
   "outputs": [
    {
     "data": {
      "text/plain": [
       "(21900,)"
      ]
     },
     "execution_count": 59,
     "metadata": {},
     "output_type": "execute_result"
    }
   ],
   "source": [
    "X.shape"
   ]
  },
  {
   "cell_type": "code",
   "execution_count": 60,
   "metadata": {},
   "outputs": [
    {
     "name": "stdout",
     "output_type": "stream",
     "text": [
      "['RENOVAÇÃO FIDELIDADE' 'RENOVAÇÃO FIDELIDADE' 'RENOVAÇÃO FIDELIDADE' ...\n",
      " '7. TAXA DE SERVIÇO EXTERNO ' '7. TAXA DE SERVIÇO EXTERNO '\n",
      " '7. TAXA DE SERVIÇO EXTERNO ']\n",
      "[66 66 66 ... 55 55 55]\n"
     ]
    }
   ],
   "source": [
    "y = novodataframe.iloc[:, 1].values\n",
    "le = preprocessing.LabelEncoder()\n",
    "print(y)\n",
    "y = le.fit_transform(y)\n",
    "print(y)"
   ]
  },
  {
   "cell_type": "code",
   "execution_count": 61,
   "metadata": {},
   "outputs": [
    {
     "data": {
      "text/plain": [
       "(21900,)"
      ]
     },
     "execution_count": 61,
     "metadata": {},
     "output_type": "execute_result"
    }
   ],
   "source": [
    "y.shape"
   ]
  },
  {
   "cell_type": "code",
   "execution_count": 62,
   "metadata": {},
   "outputs": [],
   "source": [
    "X,_,y,_ = train_test_split(X, y, test_size=0.85, stratify=y)"
   ]
  },
  {
   "cell_type": "code",
   "execution_count": 63,
   "metadata": {},
   "outputs": [],
   "source": [
    "def clean_text(text):\n",
    "    text = re.sub(r'[^a-zA-Z]', ' ', text)\n",
    "    text = re.sub(r'\\s+', ' ', text)\n",
    "    return text.lower()"
   ]
  },
  {
   "cell_type": "code",
   "execution_count": 64,
   "metadata": {},
   "outputs": [
    {
     "data": {
      "text/plain": [
       "'cliente relata que no momento esta sem conex o assim que restabelecer o sinal a conex o cai novamente a mesma relata queda constante a mesma informa que pessoal da hd informou que o problema e no conector o mesmo est com remendo telefone cliente est com muitas quedas no pppoe informa que quando meche no cabo que conecta equipamentos sua conex o cai e volta novamente '"
      ]
     },
     "execution_count": 64,
     "metadata": {},
     "output_type": "execute_result"
    }
   ],
   "source": [
    "texto = 'Cliente relata que no momento esta sem conexão, assim que  restabelecer o sinal a conexão cai novamente a mesma relata queda constante. A mesma informa que pessoal da HD informou que o problema e no conector, o mesmo está com remendo.\\nTelefone:(62) 93837298  (62)99884926.\\n\\nCliente está com muitas quedas no PPPoE, informa que quando meche no cabo que conecta equipamentos sua conexão cai e volta novamente.'\n",
    "novo_texto = clean_text(texto)\n",
    "novo_texto"
   ]
  },
  {
   "cell_type": "code",
   "execution_count": 65,
   "metadata": {},
   "outputs": [],
   "source": [
    "nlp = sp.load('pt_core_news_sm')"
   ]
  },
  {
   "cell_type": "code",
   "execution_count": 66,
   "metadata": {},
   "outputs": [],
   "source": [
    "stop_words = sp.lang.pt.STOP_WORDS"
   ]
  },
  {
   "cell_type": "code",
   "execution_count": 67,
   "metadata": {},
   "outputs": [],
   "source": [
    "def clean_text2(text):\n",
    "    document = nlp(text)\n",
    "    words = [token.text for token in document]\n",
    "    words = [word for word in words if word not in stop_words]\n",
    "    words = ' '.join([str(element) for element in words])\n",
    "    return words"
   ]
  },
  {
   "cell_type": "code",
   "execution_count": 68,
   "metadata": {},
   "outputs": [
    {
     "data": {
      "text/plain": [
       "'cliente relata conex restabelecer sinal conex cai novamente mesma relata queda constante mesma informa pessoal hd informou problema conector est remendo telefone cliente est muitas quedas pppoe informa meche cabo conecta equipamentos conex cai volta novamente'"
      ]
     },
     "execution_count": 68,
     "metadata": {},
     "output_type": "execute_result"
    }
   ],
   "source": [
    "novo_texto2 = clean_text2(novo_texto)\n",
    "novo_texto2"
   ]
  },
  {
   "cell_type": "code",
   "execution_count": 69,
   "metadata": {},
   "outputs": [],
   "source": [
    "data_labels = y"
   ]
  },
  {
   "cell_type": "code",
   "execution_count": 70,
   "metadata": {},
   "outputs": [
    {
     "data": {
      "text/plain": [
       "array([ 0,  1,  2,  3,  4,  5,  6,  7,  8,  9, 10, 11, 12, 13, 14, 15, 16,\n",
       "       17, 18, 19, 20, 21, 22, 23, 24, 25, 26, 27, 28, 29, 30, 31, 32, 33,\n",
       "       34, 35, 36, 37, 38, 39, 40, 41, 42, 43, 44, 45, 46, 47, 48, 49, 50,\n",
       "       51, 52, 53, 54, 55, 56, 57, 58, 59, 60, 61, 62, 63, 64, 65, 66, 67,\n",
       "       68, 69, 70, 71, 72])"
      ]
     },
     "execution_count": 70,
     "metadata": {},
     "output_type": "execute_result"
    }
   ],
   "source": [
    "np.unique(data_labels)"
   ]
  },
  {
   "cell_type": "code",
   "execution_count": 71,
   "metadata": {},
   "outputs": [],
   "source": [
    "data_clean = [clean_text2(clean_text(text)) for text in X]"
   ]
  },
  {
   "cell_type": "markdown",
   "metadata": {},
   "source": [
    "TOKENIZAÇÃO"
   ]
  },
  {
   "cell_type": "code",
   "execution_count": 72,
   "metadata": {},
   "outputs": [],
   "source": [
    "tokenizer = tfds.deprecated.text.SubwordTextEncoder.build_from_corpus(data_clean, target_vocab_size=2**16)"
   ]
  },
  {
   "cell_type": "code",
   "execution_count": 73,
   "metadata": {},
   "outputs": [
    {
     "data": {
      "text/plain": [
       "4084"
      ]
     },
     "execution_count": 73,
     "metadata": {},
     "output_type": "execute_result"
    }
   ],
   "source": [
    "tokenizer.vocab_size"
   ]
  },
  {
   "cell_type": "code",
   "execution_count": 74,
   "metadata": {},
   "outputs": [],
   "source": [
    "data_inputs = [tokenizer.encode(text) for text in data_clean]"
   ]
  },
  {
   "cell_type": "markdown",
   "metadata": {},
   "source": [
    "PREENCHIMENTO - PADDING"
   ]
  },
  {
   "cell_type": "code",
   "execution_count": 75,
   "metadata": {},
   "outputs": [
    {
     "data": {
      "text/plain": [
       "109"
      ]
     },
     "execution_count": 75,
     "metadata": {},
     "output_type": "execute_result"
    }
   ],
   "source": [
    "max_len = max([len(s) for s in data_inputs])\n",
    "max_len"
   ]
  },
  {
   "cell_type": "code",
   "execution_count": 76,
   "metadata": {},
   "outputs": [],
   "source": [
    "data_inputs = tf.keras.preprocessing.sequence.pad_sequences(data_inputs, value=0, maxlen=max_len, padding='post')"
   ]
  },
  {
   "cell_type": "markdown",
   "metadata": {},
   "source": [
    "DIVISAO DA BASE DE DADOS EM TREINAMENTO E TESTE"
   ]
  },
  {
   "cell_type": "code",
   "execution_count": 77,
   "metadata": {},
   "outputs": [],
   "source": [
    "train_inputs, test_inputs, train_labels, test_labels = train_test_split(data_inputs, data_labels, test_size=0.3, stratify=data_labels)"
   ]
  },
  {
   "cell_type": "code",
   "execution_count": 78,
   "metadata": {},
   "outputs": [
    {
     "data": {
      "text/plain": [
       "(2299, 109)"
      ]
     },
     "execution_count": 78,
     "metadata": {},
     "output_type": "execute_result"
    }
   ],
   "source": [
    "train_inputs.shape"
   ]
  },
  {
   "cell_type": "code",
   "execution_count": 79,
   "metadata": {},
   "outputs": [
    {
     "data": {
      "text/plain": [
       "(2299,)"
      ]
     },
     "execution_count": 79,
     "metadata": {},
     "output_type": "execute_result"
    }
   ],
   "source": [
    "train_labels.shape"
   ]
  },
  {
   "cell_type": "code",
   "execution_count": 80,
   "metadata": {},
   "outputs": [
    {
     "data": {
      "text/plain": [
       "(986,)"
      ]
     },
     "execution_count": 80,
     "metadata": {},
     "output_type": "execute_result"
    }
   ],
   "source": [
    "test_labels.shape"
   ]
  },
  {
   "cell_type": "code",
   "execution_count": 81,
   "metadata": {},
   "outputs": [
    {
     "data": {
      "text/plain": [
       "(986, 109)"
      ]
     },
     "execution_count": 81,
     "metadata": {},
     "output_type": "execute_result"
    }
   ],
   "source": [
    "test_inputs.shape"
   ]
  },
  {
   "cell_type": "markdown",
   "metadata": {},
   "source": [
    "CONSTRUÇÃO DO MODELO"
   ]
  },
  {
   "cell_type": "code",
   "execution_count": 82,
   "metadata": {},
   "outputs": [],
   "source": [
    "class DCNN(tf.keras.Model):\n",
    "    def __init__(self, vocab_size, embedding_dim=128,filter=50,ffn_units=512, num_classes=2, dropout_rate=0.1,training=False,name='DCNN'):\n",
    "        super(DCNN, self).__init__(name=name)\n",
    "        \n",
    "        self.embedding = layers.Embedding(vocab_size, embedding_dim)\n",
    "        self.bigram = layers.Conv1D(\n",
    "            filter, 2, padding='same', activation='relu')\n",
    "        self.trigram = layers.Conv1D(\n",
    "            filter, 3, padding='same', activation='relu')\n",
    "        self.fourgram = layers.Conv1D(\n",
    "            filter, 4, padding='same', activation='relu')\n",
    "        self.pool = layers.GlobalMaxPool1D()\n",
    "        self.dense_1 = layers.Dense(ffn_units, activation='relu')\n",
    "        self.droput = layers.Dropout(dropout_rate)\n",
    "        if num_classes == 2:\n",
    "            self.last_dense = layers.Dense(1, activation='sigmoid')\n",
    "        else:\n",
    "            self.last_dense = layers.Dense(num_classes,activation='softmax')\n",
    "    \n",
    "    def call(self, inputs, training):\n",
    "        x = self.embedding(inputs)\n",
    "        x_1 = self.bigram(x)\n",
    "        x_1 = self.pool(x_1)\n",
    "        x_2 = self.trigram(x)\n",
    "        x_2 = self.pool(x_2)\n",
    "        x_3 = self.fourgram(x)\n",
    "        x_3 = self.pool(x_3)\n",
    "        \n",
    "        merged = tf.concat([x_1, x_2, x_3], axis=-1)\n",
    "        merged = self.dense_1(merged)\n",
    "        merged = self.droput(merged,training)\n",
    "        outupt = self.last_dense(merged)\n",
    "        \n",
    "        return outupt\n",
    "        "
   ]
  },
  {
   "cell_type": "markdown",
   "metadata": {},
   "source": [
    "TREINAMENTO"
   ]
  },
  {
   "cell_type": "code",
   "execution_count": 83,
   "metadata": {},
   "outputs": [
    {
     "data": {
      "text/plain": [
       "4084"
      ]
     },
     "execution_count": 83,
     "metadata": {},
     "output_type": "execute_result"
    }
   ],
   "source": [
    "vocab_size =tokenizer.vocab_size\n",
    "vocab_size"
   ]
  },
  {
   "cell_type": "code",
   "execution_count": 84,
   "metadata": {},
   "outputs": [],
   "source": [
    "emb_dim = 200\n",
    "nb_filters =100\n",
    "ff_units = 100\n",
    "batch_size = 64\n",
    "num_classes = len(set(train_labels))\n",
    "dropout_rate = 0.2\n",
    "np_epochs = 10"
   ]
  },
  {
   "cell_type": "code",
   "execution_count": 85,
   "metadata": {},
   "outputs": [],
   "source": [
    "Dcnn = DCNN(vocab_size, embedding_dim=emb_dim, filter=nb_filters, ffn_units=ff_units, num_classes=num_classes, dropout_rate=dropout_rate)"
   ]
  },
  {
   "cell_type": "code",
   "execution_count": 86,
   "metadata": {},
   "outputs": [],
   "source": [
    "if num_classes == 2:\n",
    "    Dcnn.compile(loss='binary_crossentropy', optimizer='adam', metrics=['accuracy'])\n",
    "else:\n",
    "    Dcnn.compile(loss='sparse_categorical_crossentropy', optimizer='adam', metrics=['accuracy'])"
   ]
  },
  {
   "cell_type": "code",
   "execution_count": 87,
   "metadata": {},
   "outputs": [],
   "source": [
    "# checkpoint = \"base/\"\n",
    "# ckpt = tf.train.Checkpoint(Dcnn=Dcnn)\n",
    "# ckpt_manager = tf.train.CheckpointManager(ckpt, checkpoint, max_to_keep=5)\n",
    "# if ckpt_manager.latest_checkpoint:\n",
    "#     ckpt.restore(ckpt_manager.latest_checkpoint)\n",
    "#     print('Latest checkpoint restored!!')"
   ]
  },
  {
   "cell_type": "code",
   "execution_count": 88,
   "metadata": {},
   "outputs": [
    {
     "name": "stdout",
     "output_type": "stream",
     "text": [
      "Epoch 1/10\n",
      "33/33 [==============================] - 5s 126ms/step - loss: 4.2454 - accuracy: 0.0764 - val_loss: 4.1764 - val_accuracy: 0.2087\n",
      "Epoch 2/10\n",
      "33/33 [==============================] - 4s 121ms/step - loss: 3.9944 - accuracy: 0.2209 - val_loss: 3.8580 - val_accuracy: 0.2826\n",
      "Epoch 3/10\n",
      "33/33 [==============================] - 4s 123ms/step - loss: 3.4023 - accuracy: 0.3548 - val_loss: 3.0892 - val_accuracy: 0.4217\n",
      "Epoch 4/10\n",
      "33/33 [==============================] - 4s 123ms/step - loss: 2.5539 - accuracy: 0.4959 - val_loss: 2.2679 - val_accuracy: 0.5652\n",
      "Epoch 5/10\n",
      "33/33 [==============================] - 4s 119ms/step - loss: 1.8014 - accuracy: 0.6240 - val_loss: 1.8424 - val_accuracy: 0.5957\n",
      "Epoch 6/10\n",
      "33/33 [==============================] - 4s 122ms/step - loss: 1.3008 - accuracy: 0.7206 - val_loss: 1.6175 - val_accuracy: 0.6261\n",
      "Epoch 7/10\n",
      "33/33 [==============================] - 4s 121ms/step - loss: 0.9467 - accuracy: 0.7946 - val_loss: 1.4944 - val_accuracy: 0.6435\n",
      "Epoch 8/10\n",
      "33/33 [==============================] - 4s 122ms/step - loss: 0.7007 - accuracy: 0.8487 - val_loss: 1.4371 - val_accuracy: 0.6478\n",
      "Epoch 9/10\n",
      "33/33 [==============================] - 4s 123ms/step - loss: 0.5348 - accuracy: 0.8864 - val_loss: 1.4229 - val_accuracy: 0.6609\n",
      "Epoch 10/10\n",
      "33/33 [==============================] - 4s 124ms/step - loss: 0.4287 - accuracy: 0.9043 - val_loss: 1.4114 - val_accuracy: 0.6565\n"
     ]
    }
   ],
   "source": [
    "history = Dcnn.fit(train_inputs, train_labels,batch_size=batch_size, epochs=np_epochs, validation_split=0.10, verbose=1)\n",
    "#ckpt_manager.save()"
   ]
  },
  {
   "cell_type": "code",
   "execution_count": 89,
   "metadata": {},
   "outputs": [
    {
     "name": "stdout",
     "output_type": "stream",
     "text": [
      "16/16 [==============================] - 0s 19ms/step - loss: 1.6174 - accuracy: 0.6298\n",
      "[1.617356300354004, 0.6298174262046814]\n"
     ]
    }
   ],
   "source": [
    "results = Dcnn.evaluate(test_inputs, test_labels,batch_size=batch_size)\n",
    "print(results)"
   ]
  },
  {
   "cell_type": "code",
   "execution_count": 90,
   "metadata": {},
   "outputs": [],
   "source": [
    "y_pred_test = Dcnn.predict(test_inputs)"
   ]
  },
  {
   "cell_type": "code",
   "execution_count": 91,
   "metadata": {},
   "outputs": [
    {
     "data": {
      "text/plain": [
       "array([[9.64863109e-04, 8.77327546e-02, 5.26828825e-01, ...,\n",
       "        2.99470150e-04, 6.57467637e-04, 2.87664414e-04],\n",
       "       [9.25753789e-04, 1.40291615e-03, 2.52423040e-03, ...,\n",
       "        3.95367570e-05, 1.99465052e-04, 1.69521431e-04],\n",
       "       [1.44518415e-08, 3.25590349e-06, 2.27618443e-06, ...,\n",
       "        4.66686023e-10, 5.20472998e-10, 4.42342305e-08],\n",
       "       ...,\n",
       "       [3.04312538e-03, 2.50571873e-02, 1.13941089e-03, ...,\n",
       "        1.20063396e-02, 2.01047987e-01, 7.11512053e-04],\n",
       "       [7.23903781e-07, 1.66942031e-04, 4.42387318e-07, ...,\n",
       "        4.77703850e-07, 1.14021403e-09, 9.90133286e-01],\n",
       "       [2.14275096e-05, 9.60906267e-01, 8.79085157e-03, ...,\n",
       "        7.60011753e-05, 3.55570883e-05, 1.45091399e-04]], dtype=float32)"
      ]
     },
     "execution_count": 91,
     "metadata": {},
     "output_type": "execute_result"
    }
   ],
   "source": [
    "y_pred_test"
   ]
  },
  {
   "cell_type": "code",
   "execution_count": 99,
   "metadata": {},
   "outputs": [
    {
     "data": {
      "text/plain": [
       "[107, 3928, 3929, 3860, 226]"
      ]
     },
     "execution_count": 99,
     "metadata": {},
     "output_type": "execute_result"
    }
   ],
   "source": [
    "te = tokenizer.encode('envio de boleto')\n",
    "te"
   ]
  },
  {
   "cell_type": "code",
   "execution_count": 100,
   "metadata": {},
   "outputs": [
    {
     "data": {
      "text/plain": [
       "0.99999994"
      ]
     },
     "execution_count": 100,
     "metadata": {},
     "output_type": "execute_result"
    }
   ],
   "source": [
    "s = Dcnn(np.array([te]), training=False).numpy()\n"
   ]
  },
  {
   "cell_type": "code",
   "execution_count": 101,
   "metadata": {},
   "outputs": [
    {
     "data": {
      "text/plain": [
       "array([[1.9393038e-02, 6.6854157e-02, 2.5804188e-02, 7.7151763e-03,\n",
       "        1.6396962e-03, 3.7139906e-03, 4.2825933e-03, 9.5440267e-04,\n",
       "        2.7913088e-03, 4.7827270e-02, 2.9680347e-02, 5.3010187e-03,\n",
       "        3.4499931e-01, 9.4994949e-03, 5.5750892e-03, 1.3678089e-01,\n",
       "        7.0819273e-03, 2.2210386e-03, 1.7640609e-02, 1.1932261e-02,\n",
       "        1.6511852e-02, 9.6620377e-03, 5.5377102e-03, 6.4900215e-03,\n",
       "        3.2231065e-03, 2.5005816e-03, 2.9054817e-03, 6.3167438e-03,\n",
       "        8.6048414e-04, 2.3744332e-03, 1.0914540e-02, 2.5923618e-03,\n",
       "        2.1968235e-03, 2.2249107e-04, 6.8928365e-04, 6.3943970e-03,\n",
       "        1.0162520e-03, 8.5502141e-04, 1.1249982e-04, 5.7302183e-03,\n",
       "        7.5097792e-05, 4.9473642e-04, 2.6880542e-03, 4.0769191e-03,\n",
       "        2.7505911e-04, 8.3389906e-03, 7.5110834e-04, 1.0105171e-03,\n",
       "        1.1700625e-03, 8.0369989e-04, 2.8999881e-03, 2.3033954e-03,\n",
       "        1.6391091e-03, 1.5222605e-03, 8.3427299e-03, 1.1681131e-02,\n",
       "        4.5429687e-03, 2.7646055e-04, 5.3279563e-03, 4.7036610e-03,\n",
       "        3.2657941e-04, 2.3652259e-03, 1.4610529e-03, 5.1925541e-04,\n",
       "        3.7595318e-03, 2.6932606e-03, 9.4549507e-03, 7.0880417e-04,\n",
       "        5.4959428e-02, 2.9050093e-04, 3.5446228e-03, 5.9196781e-03,\n",
       "        1.2279042e-02]], dtype=float32)"
      ]
     },
     "execution_count": 101,
     "metadata": {},
     "output_type": "execute_result"
    }
   ],
   "source": [
    "Dcnn.predict(np.array([te]))"
   ]
  }
 ],
 "metadata": {
  "interpreter": {
   "hash": "4398a71f044ae7c4cec7987df65a724231eaff753f776a5101155e07fb741822"
  },
  "kernelspec": {
   "display_name": "Python 3.10.4 ('env': venv)",
   "language": "python",
   "name": "python3"
  },
  "language_info": {
   "codemirror_mode": {
    "name": "ipython",
    "version": 3
   },
   "file_extension": ".py",
   "mimetype": "text/x-python",
   "name": "python",
   "nbconvert_exporter": "python",
   "pygments_lexer": "ipython3",
   "version": "3.10.4"
  },
  "orig_nbformat": 4
 },
 "nbformat": 4,
 "nbformat_minor": 2
}
